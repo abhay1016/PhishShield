{
 "cells": [
  {
   "cell_type": "code",
   "execution_count": 4,
   "id": "4dc9c68e-43de-47ea-a20d-31843332d8c5",
   "metadata": {},
   "outputs": [],
   "source": [
    "import numpy as np\n",
    "import pandas as pd\n",
    "import matplotlib.pyplot as plt"
   ]
  },
  {
   "cell_type": "code",
   "execution_count": 5,
   "id": "a1b1260c-de73-4879-957d-efecbb800e0b",
   "metadata": {},
   "outputs": [],
   "source": [
    "data = pd.read_csv(r\"C:\\Users\\abhay\\Downloads\\archive\\phishing_site_urls.csv\")"
   ]
  },
  {
   "cell_type": "code",
   "execution_count": 6,
   "id": "1a0010d3-d1c4-4542-a6f5-a3c44deda536",
   "metadata": {},
   "outputs": [
    {
     "data": {
      "text/html": [
       "<div>\n",
       "<style scoped>\n",
       "    .dataframe tbody tr th:only-of-type {\n",
       "        vertical-align: middle;\n",
       "    }\n",
       "\n",
       "    .dataframe tbody tr th {\n",
       "        vertical-align: top;\n",
       "    }\n",
       "\n",
       "    .dataframe thead th {\n",
       "        text-align: right;\n",
       "    }\n",
       "</style>\n",
       "<table border=\"1\" class=\"dataframe\">\n",
       "  <thead>\n",
       "    <tr style=\"text-align: right;\">\n",
       "      <th></th>\n",
       "      <th>URL</th>\n",
       "      <th>Label</th>\n",
       "    </tr>\n",
       "  </thead>\n",
       "  <tbody>\n",
       "    <tr>\n",
       "      <th>0</th>\n",
       "      <td>nobell.it/70ffb52d079109dca5664cce6f317373782/...</td>\n",
       "      <td>bad</td>\n",
       "    </tr>\n",
       "    <tr>\n",
       "      <th>1</th>\n",
       "      <td>www.dghjdgf.com/paypal.co.uk/cycgi-bin/webscrc...</td>\n",
       "      <td>bad</td>\n",
       "    </tr>\n",
       "    <tr>\n",
       "      <th>2</th>\n",
       "      <td>serviciosbys.com/paypal.cgi.bin.get-into.herf....</td>\n",
       "      <td>bad</td>\n",
       "    </tr>\n",
       "    <tr>\n",
       "      <th>3</th>\n",
       "      <td>mail.printakid.com/www.online.americanexpress....</td>\n",
       "      <td>bad</td>\n",
       "    </tr>\n",
       "    <tr>\n",
       "      <th>4</th>\n",
       "      <td>thewhiskeydregs.com/wp-content/themes/widescre...</td>\n",
       "      <td>bad</td>\n",
       "    </tr>\n",
       "  </tbody>\n",
       "</table>\n",
       "</div>"
      ],
      "text/plain": [
       "                                                 URL Label\n",
       "0  nobell.it/70ffb52d079109dca5664cce6f317373782/...   bad\n",
       "1  www.dghjdgf.com/paypal.co.uk/cycgi-bin/webscrc...   bad\n",
       "2  serviciosbys.com/paypal.cgi.bin.get-into.herf....   bad\n",
       "3  mail.printakid.com/www.online.americanexpress....   bad\n",
       "4  thewhiskeydregs.com/wp-content/themes/widescre...   bad"
      ]
     },
     "execution_count": 6,
     "metadata": {},
     "output_type": "execute_result"
    }
   ],
   "source": [
    "data.head()"
   ]
  },
  {
   "cell_type": "code",
   "execution_count": 7,
   "id": "3a9af3f8-fca9-48ff-afb4-6d477abf5796",
   "metadata": {},
   "outputs": [
    {
     "data": {
      "text/html": [
       "<div>\n",
       "<style scoped>\n",
       "    .dataframe tbody tr th:only-of-type {\n",
       "        vertical-align: middle;\n",
       "    }\n",
       "\n",
       "    .dataframe tbody tr th {\n",
       "        vertical-align: top;\n",
       "    }\n",
       "\n",
       "    .dataframe thead th {\n",
       "        text-align: right;\n",
       "    }\n",
       "</style>\n",
       "<table border=\"1\" class=\"dataframe\">\n",
       "  <thead>\n",
       "    <tr style=\"text-align: right;\">\n",
       "      <th></th>\n",
       "      <th>URL</th>\n",
       "      <th>Label</th>\n",
       "    </tr>\n",
       "  </thead>\n",
       "  <tbody>\n",
       "    <tr>\n",
       "      <th>549341</th>\n",
       "      <td>23.227.196.215/</td>\n",
       "      <td>bad</td>\n",
       "    </tr>\n",
       "    <tr>\n",
       "      <th>549342</th>\n",
       "      <td>apple-checker.org/</td>\n",
       "      <td>bad</td>\n",
       "    </tr>\n",
       "    <tr>\n",
       "      <th>549343</th>\n",
       "      <td>apple-iclods.org/</td>\n",
       "      <td>bad</td>\n",
       "    </tr>\n",
       "    <tr>\n",
       "      <th>549344</th>\n",
       "      <td>apple-uptoday.org/</td>\n",
       "      <td>bad</td>\n",
       "    </tr>\n",
       "    <tr>\n",
       "      <th>549345</th>\n",
       "      <td>apple-search.info</td>\n",
       "      <td>bad</td>\n",
       "    </tr>\n",
       "  </tbody>\n",
       "</table>\n",
       "</div>"
      ],
      "text/plain": [
       "                       URL Label\n",
       "549341     23.227.196.215/   bad\n",
       "549342  apple-checker.org/   bad\n",
       "549343   apple-iclods.org/   bad\n",
       "549344  apple-uptoday.org/   bad\n",
       "549345   apple-search.info   bad"
      ]
     },
     "execution_count": 7,
     "metadata": {},
     "output_type": "execute_result"
    }
   ],
   "source": [
    "data.tail()"
   ]
  },
  {
   "cell_type": "code",
   "execution_count": 8,
   "id": "77be7178-9bd0-406e-9ba1-dd95f3fb7e80",
   "metadata": {},
   "outputs": [
    {
     "data": {
      "text/html": [
       "<div>\n",
       "<style scoped>\n",
       "    .dataframe tbody tr th:only-of-type {\n",
       "        vertical-align: middle;\n",
       "    }\n",
       "\n",
       "    .dataframe tbody tr th {\n",
       "        vertical-align: top;\n",
       "    }\n",
       "\n",
       "    .dataframe thead th {\n",
       "        text-align: right;\n",
       "    }\n",
       "</style>\n",
       "<table border=\"1\" class=\"dataframe\">\n",
       "  <thead>\n",
       "    <tr style=\"text-align: right;\">\n",
       "      <th></th>\n",
       "      <th>URL</th>\n",
       "      <th>Label</th>\n",
       "    </tr>\n",
       "  </thead>\n",
       "  <tbody>\n",
       "    <tr>\n",
       "      <th>129000</th>\n",
       "      <td>bobbchrysler.com/wp-admin/includes/www.tescoba...</td>\n",
       "      <td>bad</td>\n",
       "    </tr>\n",
       "    <tr>\n",
       "      <th>389569</th>\n",
       "      <td>minnesota.edu/?id=1187</td>\n",
       "      <td>good</td>\n",
       "    </tr>\n",
       "    <tr>\n",
       "      <th>1316</th>\n",
       "      <td>brandl.com.br/images/portal/</td>\n",
       "      <td>bad</td>\n",
       "    </tr>\n",
       "    <tr>\n",
       "      <th>10029</th>\n",
       "      <td>abiraj.com.np/Paypal_Virefication/</td>\n",
       "      <td>bad</td>\n",
       "    </tr>\n",
       "    <tr>\n",
       "      <th>4034</th>\n",
       "      <td>mondziks.w.interia.pl/?</td>\n",
       "      <td>bad</td>\n",
       "    </tr>\n",
       "    <tr>\n",
       "      <th>477589</th>\n",
       "      <td>youtube.com/watch?v=piXCnsTCuhk</td>\n",
       "      <td>good</td>\n",
       "    </tr>\n",
       "    <tr>\n",
       "      <th>512278</th>\n",
       "      <td>uwiyklntlxpxj.work/checkupdate</td>\n",
       "      <td>bad</td>\n",
       "    </tr>\n",
       "    <tr>\n",
       "      <th>494084</th>\n",
       "      <td>copy.com/kSdM8qlaldznAdaz/DHL_RECEIPT_TRACKING...</td>\n",
       "      <td>bad</td>\n",
       "    </tr>\n",
       "    <tr>\n",
       "      <th>314303</th>\n",
       "      <td>dictionary30.com/meaning/Mirna</td>\n",
       "      <td>good</td>\n",
       "    </tr>\n",
       "    <tr>\n",
       "      <th>530835</th>\n",
       "      <td>thetestserver.net/kemymr</td>\n",
       "      <td>bad</td>\n",
       "    </tr>\n",
       "  </tbody>\n",
       "</table>\n",
       "</div>"
      ],
      "text/plain": [
       "                                                      URL Label\n",
       "129000  bobbchrysler.com/wp-admin/includes/www.tescoba...   bad\n",
       "389569                             minnesota.edu/?id=1187  good\n",
       "1316                         brandl.com.br/images/portal/   bad\n",
       "10029                  abiraj.com.np/Paypal_Virefication/   bad\n",
       "4034                              mondziks.w.interia.pl/?   bad\n",
       "477589                    youtube.com/watch?v=piXCnsTCuhk  good\n",
       "512278                     uwiyklntlxpxj.work/checkupdate   bad\n",
       "494084  copy.com/kSdM8qlaldznAdaz/DHL_RECEIPT_TRACKING...   bad\n",
       "314303                     dictionary30.com/meaning/Mirna  good\n",
       "530835                           thetestserver.net/kemymr   bad"
      ]
     },
     "execution_count": 8,
     "metadata": {},
     "output_type": "execute_result"
    }
   ],
   "source": [
    "data.sample(10)"
   ]
  },
  {
   "cell_type": "code",
   "execution_count": 9,
   "id": "f6602bee-25ac-4ad4-9c14-7b2ea0b5a003",
   "metadata": {},
   "outputs": [
    {
     "data": {
      "text/plain": [
       "(549346, 2)"
      ]
     },
     "execution_count": 9,
     "metadata": {},
     "output_type": "execute_result"
    }
   ],
   "source": [
    "data.shape"
   ]
  },
  {
   "cell_type": "code",
   "execution_count": 10,
   "id": "ea248449-0166-4f69-bfed-7dd964d04ec5",
   "metadata": {},
   "outputs": [
    {
     "data": {
      "text/plain": [
       "1098692"
      ]
     },
     "execution_count": 10,
     "metadata": {},
     "output_type": "execute_result"
    }
   ],
   "source": [
    "data.size"
   ]
  },
  {
   "cell_type": "code",
   "execution_count": 11,
   "id": "ed8ae681-033f-4cb6-8c09-3acb2f9d0e78",
   "metadata": {},
   "outputs": [
    {
     "data": {
      "text/html": [
       "<div>\n",
       "<style scoped>\n",
       "    .dataframe tbody tr th:only-of-type {\n",
       "        vertical-align: middle;\n",
       "    }\n",
       "\n",
       "    .dataframe tbody tr th {\n",
       "        vertical-align: top;\n",
       "    }\n",
       "\n",
       "    .dataframe thead th {\n",
       "        text-align: right;\n",
       "    }\n",
       "</style>\n",
       "<table border=\"1\" class=\"dataframe\">\n",
       "  <thead>\n",
       "    <tr style=\"text-align: right;\">\n",
       "      <th></th>\n",
       "      <th>URL</th>\n",
       "      <th>Label</th>\n",
       "    </tr>\n",
       "  </thead>\n",
       "  <tbody>\n",
       "    <tr>\n",
       "      <th>count</th>\n",
       "      <td>549346</td>\n",
       "      <td>549346</td>\n",
       "    </tr>\n",
       "    <tr>\n",
       "      <th>unique</th>\n",
       "      <td>507195</td>\n",
       "      <td>2</td>\n",
       "    </tr>\n",
       "    <tr>\n",
       "      <th>top</th>\n",
       "      <td>jhomitevd2abj3fk.onion.to/</td>\n",
       "      <td>good</td>\n",
       "    </tr>\n",
       "    <tr>\n",
       "      <th>freq</th>\n",
       "      <td>52</td>\n",
       "      <td>392924</td>\n",
       "    </tr>\n",
       "  </tbody>\n",
       "</table>\n",
       "</div>"
      ],
      "text/plain": [
       "                               URL   Label\n",
       "count                       549346  549346\n",
       "unique                      507195       2\n",
       "top     jhomitevd2abj3fk.onion.to/    good\n",
       "freq                            52  392924"
      ]
     },
     "execution_count": 11,
     "metadata": {},
     "output_type": "execute_result"
    }
   ],
   "source": [
    "data.describe()"
   ]
  },
  {
   "cell_type": "code",
   "execution_count": 12,
   "id": "2e8ea14d-ed8c-4a5e-8365-54a7959650ab",
   "metadata": {},
   "outputs": [
    {
     "name": "stdout",
     "output_type": "stream",
     "text": [
      "<class 'pandas.core.frame.DataFrame'>\n",
      "RangeIndex: 549346 entries, 0 to 549345\n",
      "Data columns (total 2 columns):\n",
      " #   Column  Non-Null Count   Dtype \n",
      "---  ------  --------------   ----- \n",
      " 0   URL     549346 non-null  object\n",
      " 1   Label   549346 non-null  object\n",
      "dtypes: object(2)\n",
      "memory usage: 8.4+ MB\n"
     ]
    }
   ],
   "source": [
    "data.info()"
   ]
  },
  {
   "cell_type": "code",
   "execution_count": 13,
   "id": "5d41950e-e03b-4c54-8ba2-9f19296f5cd0",
   "metadata": {},
   "outputs": [
    {
     "data": {
      "text/plain": [
       "0         nobell.it/70ffb52d079109dca5664cce6f317373782/...\n",
       "1         www.dghjdgf.com/paypal.co.uk/cycgi-bin/webscrc...\n",
       "2         serviciosbys.com/paypal.cgi.bin.get-into.herf....\n",
       "3         mail.printakid.com/www.online.americanexpress....\n",
       "4         thewhiskeydregs.com/wp-content/themes/widescre...\n",
       "                                ...                        \n",
       "549341                                      23.227.196.215/\n",
       "549342                                   apple-checker.org/\n",
       "549343                                    apple-iclods.org/\n",
       "549344                                   apple-uptoday.org/\n",
       "549345                                    apple-search.info\n",
       "Name: URL, Length: 549346, dtype: object"
      ]
     },
     "execution_count": 13,
     "metadata": {},
     "output_type": "execute_result"
    }
   ],
   "source": [
    "data.URL"
   ]
  },
  {
   "cell_type": "code",
   "execution_count": 14,
   "id": "3aa423eb-2656-49e1-b7bd-c1cde649d36e",
   "metadata": {},
   "outputs": [
    {
     "data": {
      "text/plain": [
       "0         bad\n",
       "1         bad\n",
       "2         bad\n",
       "3         bad\n",
       "4         bad\n",
       "         ... \n",
       "549341    bad\n",
       "549342    bad\n",
       "549343    bad\n",
       "549344    bad\n",
       "549345    bad\n",
       "Name: Label, Length: 549346, dtype: object"
      ]
     },
     "execution_count": 14,
     "metadata": {},
     "output_type": "execute_result"
    }
   ],
   "source": [
    "data.Label"
   ]
  },
  {
   "cell_type": "code",
   "execution_count": 15,
   "id": "02675dc5-814b-40f0-ac73-c4b248a43ef0",
   "metadata": {},
   "outputs": [
    {
     "data": {
      "text/plain": [
       "URL      0\n",
       "Label    0\n",
       "dtype: int64"
      ]
     },
     "execution_count": 15,
     "metadata": {},
     "output_type": "execute_result"
    }
   ],
   "source": [
    "data.isnull().sum()"
   ]
  },
  {
   "cell_type": "code",
   "execution_count": 16,
   "id": "0bb081c8-b051-472f-8946-b1a2320d63a5",
   "metadata": {},
   "outputs": [
    {
     "data": {
      "text/plain": [
       "Label\n",
       "good    392924\n",
       "bad     156422\n",
       "Name: count, dtype: int64"
      ]
     },
     "execution_count": 16,
     "metadata": {},
     "output_type": "execute_result"
    }
   ],
   "source": [
    "data.Label.value_counts()"
   ]
  },
  {
   "cell_type": "code",
   "execution_count": 17,
   "id": "8495b0bb-72f5-4ca1-a719-90bc84e49be6",
   "metadata": {},
   "outputs": [],
   "source": [
    "good = data[data.Label == \"good\"]\n",
    "bad = data[data.Label == \"bad\"]"
   ]
  },
  {
   "cell_type": "code",
   "execution_count": 18,
   "id": "3201989a-0346-4cb0-81da-054633a97256",
   "metadata": {},
   "outputs": [
    {
     "data": {
      "text/plain": [
       "(392924, 2)"
      ]
     },
     "execution_count": 18,
     "metadata": {},
     "output_type": "execute_result"
    }
   ],
   "source": [
    "good.shape"
   ]
  },
  {
   "cell_type": "code",
   "execution_count": 19,
   "id": "842d79cc-e98d-4210-b5bd-0002b9e88585",
   "metadata": {},
   "outputs": [
    {
     "data": {
      "text/html": [
       "<div>\n",
       "<style scoped>\n",
       "    .dataframe tbody tr th:only-of-type {\n",
       "        vertical-align: middle;\n",
       "    }\n",
       "\n",
       "    .dataframe tbody tr th {\n",
       "        vertical-align: top;\n",
       "    }\n",
       "\n",
       "    .dataframe thead th {\n",
       "        text-align: right;\n",
       "    }\n",
       "</style>\n",
       "<table border=\"1\" class=\"dataframe\">\n",
       "  <thead>\n",
       "    <tr style=\"text-align: right;\">\n",
       "      <th></th>\n",
       "      <th>URL</th>\n",
       "      <th>Label</th>\n",
       "    </tr>\n",
       "  </thead>\n",
       "  <tbody>\n",
       "    <tr>\n",
       "      <th>18231</th>\n",
       "      <td>esxcc.com/js/index.htm?us.battle.net/noghn/en/...</td>\n",
       "      <td>good</td>\n",
       "    </tr>\n",
       "    <tr>\n",
       "      <th>18232</th>\n",
       "      <td>www\u000eeira¯&amp;nvinip¿ncH¯wVö%ÆåyDaHðû/ÏyEùu\u0003Ë\\nÓ\u00176...</td>\n",
       "      <td>good</td>\n",
       "    </tr>\n",
       "    <tr>\n",
       "      <th>18233</th>\n",
       "      <td>'www.institutocgr.coo/web/media/syqvem/dk-\u000fóij...</td>\n",
       "      <td>good</td>\n",
       "    </tr>\n",
       "    <tr>\n",
       "      <th>18234</th>\n",
       "      <td>\u0011\u0018Yìê\f",
       "koãÕ»Î§DéÎ\u0002l½ñ¡ââqtò¸/à; Í</td>\n",
       "      <td>good</td>\n",
       "    </tr>\n",
       "    <tr>\n",
       "      <th>18236</th>\n",
       "      <td>ruta89fm.com/images/AS@Vies/1i75cf7b16vc&lt;F\u0015d16...</td>\n",
       "      <td>good</td>\n",
       "    </tr>\n",
       "  </tbody>\n",
       "</table>\n",
       "</div>"
      ],
      "text/plain": [
       "                                                     URL Label\n",
       "18231  esxcc.com/js/index.htm?us.battle.net/noghn/en/...  good\n",
       "18232  www\u000eeira¯&nvinip¿ncH¯wVö%ÆåyDaHðû/ÏyEùu\u0003Ë\\nÓ\u00176...  good\n",
       "18233  'www.institutocgr.coo/web/media/syqvem/dk-\u000fóij...  good\n",
       "18234                  \u0011\u0018Yìê\n",
       "koãÕ»Î§DéÎ\u0002l½ñ¡ââqtò¸/à; Í  good\n",
       "18236  ruta89fm.com/images/AS@Vies/1i75cf7b16vc<F\u0015d16...  good"
      ]
     },
     "execution_count": 19,
     "metadata": {},
     "output_type": "execute_result"
    }
   ],
   "source": [
    "good.head()"
   ]
  },
  {
   "cell_type": "code",
   "execution_count": 20,
   "id": "1eb1d6dd-7aad-4a61-ad9d-03f1d9e0a67f",
   "metadata": {},
   "outputs": [
    {
     "data": {
      "text/html": [
       "<div>\n",
       "<style scoped>\n",
       "    .dataframe tbody tr th:only-of-type {\n",
       "        vertical-align: middle;\n",
       "    }\n",
       "\n",
       "    .dataframe tbody tr th {\n",
       "        vertical-align: top;\n",
       "    }\n",
       "\n",
       "    .dataframe thead th {\n",
       "        text-align: right;\n",
       "    }\n",
       "</style>\n",
       "<table border=\"1\" class=\"dataframe\">\n",
       "  <thead>\n",
       "    <tr style=\"text-align: right;\">\n",
       "      <th></th>\n",
       "      <th>URL</th>\n",
       "      <th>Label</th>\n",
       "    </tr>\n",
       "  </thead>\n",
       "  <tbody>\n",
       "    <tr>\n",
       "      <th>157891</th>\n",
       "      <td>chicago.blockshopper.com/cities/buffalo_grove/...</td>\n",
       "      <td>good</td>\n",
       "    </tr>\n",
       "    <tr>\n",
       "      <th>258777</th>\n",
       "      <td>wiki.answers.com/Q/What_is_chihuahua_relations...</td>\n",
       "      <td>good</td>\n",
       "    </tr>\n",
       "    <tr>\n",
       "      <th>337791</th>\n",
       "      <td>filmsite.org/twelve.html</td>\n",
       "      <td>good</td>\n",
       "    </tr>\n",
       "    <tr>\n",
       "      <th>300589</th>\n",
       "      <td>cbssports.com/collegefootball/players/playerpa...</td>\n",
       "      <td>good</td>\n",
       "    </tr>\n",
       "    <tr>\n",
       "      <th>424483</th>\n",
       "      <td>rootsweb.ancestry.com/~ausvsac/Ballan.htm</td>\n",
       "      <td>good</td>\n",
       "    </tr>\n",
       "    <tr>\n",
       "      <th>57349</th>\n",
       "      <td>www.nps.gov/history/nr/twhp/wwwlps/lessons/21b...</td>\n",
       "      <td>good</td>\n",
       "    </tr>\n",
       "    <tr>\n",
       "      <th>202861</th>\n",
       "      <td>jenningssrhigh.mo.jsh.schoolinsites.com/?PageN...</td>\n",
       "      <td>good</td>\n",
       "    </tr>\n",
       "    <tr>\n",
       "      <th>240212</th>\n",
       "      <td>smurfs.wikia.com/wiki/Farmer_Smurf</td>\n",
       "      <td>good</td>\n",
       "    </tr>\n",
       "    <tr>\n",
       "      <th>415813</th>\n",
       "      <td>pornchixmovies.com/candy-samples/</td>\n",
       "      <td>good</td>\n",
       "    </tr>\n",
       "    <tr>\n",
       "      <th>386208</th>\n",
       "      <td>mcgi.state.mi.us/mgdl/framework/metadata/Osceo...</td>\n",
       "      <td>good</td>\n",
       "    </tr>\n",
       "  </tbody>\n",
       "</table>\n",
       "</div>"
      ],
      "text/plain": [
       "                                                      URL Label\n",
       "157891  chicago.blockshopper.com/cities/buffalo_grove/...  good\n",
       "258777  wiki.answers.com/Q/What_is_chihuahua_relations...  good\n",
       "337791                           filmsite.org/twelve.html  good\n",
       "300589  cbssports.com/collegefootball/players/playerpa...  good\n",
       "424483          rootsweb.ancestry.com/~ausvsac/Ballan.htm  good\n",
       "57349   www.nps.gov/history/nr/twhp/wwwlps/lessons/21b...  good\n",
       "202861  jenningssrhigh.mo.jsh.schoolinsites.com/?PageN...  good\n",
       "240212                 smurfs.wikia.com/wiki/Farmer_Smurf  good\n",
       "415813                  pornchixmovies.com/candy-samples/  good\n",
       "386208  mcgi.state.mi.us/mgdl/framework/metadata/Osceo...  good"
      ]
     },
     "execution_count": 20,
     "metadata": {},
     "output_type": "execute_result"
    }
   ],
   "source": [
    "good.sample(10)"
   ]
  },
  {
   "cell_type": "code",
   "execution_count": 21,
   "id": "e7a86d28-cb39-42c7-85fe-fb7f0049a98d",
   "metadata": {},
   "outputs": [
    {
     "data": {
      "text/plain": [
       "(156422, 2)"
      ]
     },
     "execution_count": 21,
     "metadata": {},
     "output_type": "execute_result"
    }
   ],
   "source": [
    "bad.shape"
   ]
  },
  {
   "cell_type": "code",
   "execution_count": 22,
   "id": "3634de8c-421d-4158-8be8-3648d09cf98f",
   "metadata": {},
   "outputs": [
    {
     "data": {
      "text/html": [
       "<div>\n",
       "<style scoped>\n",
       "    .dataframe tbody tr th:only-of-type {\n",
       "        vertical-align: middle;\n",
       "    }\n",
       "\n",
       "    .dataframe tbody tr th {\n",
       "        vertical-align: top;\n",
       "    }\n",
       "\n",
       "    .dataframe thead th {\n",
       "        text-align: right;\n",
       "    }\n",
       "</style>\n",
       "<table border=\"1\" class=\"dataframe\">\n",
       "  <thead>\n",
       "    <tr style=\"text-align: right;\">\n",
       "      <th></th>\n",
       "      <th>URL</th>\n",
       "      <th>Label</th>\n",
       "    </tr>\n",
       "  </thead>\n",
       "  <tbody>\n",
       "    <tr>\n",
       "      <th>0</th>\n",
       "      <td>nobell.it/70ffb52d079109dca5664cce6f317373782/...</td>\n",
       "      <td>bad</td>\n",
       "    </tr>\n",
       "    <tr>\n",
       "      <th>1</th>\n",
       "      <td>www.dghjdgf.com/paypal.co.uk/cycgi-bin/webscrc...</td>\n",
       "      <td>bad</td>\n",
       "    </tr>\n",
       "    <tr>\n",
       "      <th>2</th>\n",
       "      <td>serviciosbys.com/paypal.cgi.bin.get-into.herf....</td>\n",
       "      <td>bad</td>\n",
       "    </tr>\n",
       "    <tr>\n",
       "      <th>3</th>\n",
       "      <td>mail.printakid.com/www.online.americanexpress....</td>\n",
       "      <td>bad</td>\n",
       "    </tr>\n",
       "    <tr>\n",
       "      <th>4</th>\n",
       "      <td>thewhiskeydregs.com/wp-content/themes/widescre...</td>\n",
       "      <td>bad</td>\n",
       "    </tr>\n",
       "  </tbody>\n",
       "</table>\n",
       "</div>"
      ],
      "text/plain": [
       "                                                 URL Label\n",
       "0  nobell.it/70ffb52d079109dca5664cce6f317373782/...   bad\n",
       "1  www.dghjdgf.com/paypal.co.uk/cycgi-bin/webscrc...   bad\n",
       "2  serviciosbys.com/paypal.cgi.bin.get-into.herf....   bad\n",
       "3  mail.printakid.com/www.online.americanexpress....   bad\n",
       "4  thewhiskeydregs.com/wp-content/themes/widescre...   bad"
      ]
     },
     "execution_count": 22,
     "metadata": {},
     "output_type": "execute_result"
    }
   ],
   "source": [
    "bad.head()"
   ]
  },
  {
   "cell_type": "code",
   "execution_count": 23,
   "id": "aad84b51-e9d4-4c51-8447-aa6d9c2a1894",
   "metadata": {},
   "outputs": [
    {
     "data": {
      "text/html": [
       "<div>\n",
       "<style scoped>\n",
       "    .dataframe tbody tr th:only-of-type {\n",
       "        vertical-align: middle;\n",
       "    }\n",
       "\n",
       "    .dataframe tbody tr th {\n",
       "        vertical-align: top;\n",
       "    }\n",
       "\n",
       "    .dataframe thead th {\n",
       "        text-align: right;\n",
       "    }\n",
       "</style>\n",
       "<table border=\"1\" class=\"dataframe\">\n",
       "  <thead>\n",
       "    <tr style=\"text-align: right;\">\n",
       "      <th></th>\n",
       "      <th>URL</th>\n",
       "      <th>Label</th>\n",
       "    </tr>\n",
       "  </thead>\n",
       "  <tbody>\n",
       "    <tr>\n",
       "      <th>106201</th>\n",
       "      <td>xnfwq.com/index_f.asp</td>\n",
       "      <td>bad</td>\n",
       "    </tr>\n",
       "    <tr>\n",
       "      <th>544763</th>\n",
       "      <td>thecodega.com/878hf33f34f</td>\n",
       "      <td>bad</td>\n",
       "    </tr>\n",
       "    <tr>\n",
       "      <th>116476</th>\n",
       "      <td>living4u.80port.net/zb/doc/file.index.htm/rema...</td>\n",
       "      <td>bad</td>\n",
       "    </tr>\n",
       "    <tr>\n",
       "      <th>120511</th>\n",
       "      <td>escueladeparapente.cl/doc/docu/pvalidate.html</td>\n",
       "      <td>bad</td>\n",
       "    </tr>\n",
       "    <tr>\n",
       "      <th>487300</th>\n",
       "      <td>www.comeinbaby.com/mac/getversion.php</td>\n",
       "      <td>bad</td>\n",
       "    </tr>\n",
       "    <tr>\n",
       "      <th>7287</th>\n",
       "      <td>www.ttok.asia/login/en/login.html</td>\n",
       "      <td>bad</td>\n",
       "    </tr>\n",
       "    <tr>\n",
       "      <th>496252</th>\n",
       "      <td>www.tabsync.net/</td>\n",
       "      <td>bad</td>\n",
       "    </tr>\n",
       "    <tr>\n",
       "      <th>133493</th>\n",
       "      <td>grenadineshomes.com/includes/.https/?https://w...</td>\n",
       "      <td>bad</td>\n",
       "    </tr>\n",
       "    <tr>\n",
       "      <th>114389</th>\n",
       "      <td>lafayettebeauty.net/wp-content/plugins/2c8adb8...</td>\n",
       "      <td>bad</td>\n",
       "    </tr>\n",
       "    <tr>\n",
       "      <th>104297</th>\n",
       "      <td>pragueproject.org/datafile/weldone/nD</td>\n",
       "      <td>bad</td>\n",
       "    </tr>\n",
       "  </tbody>\n",
       "</table>\n",
       "</div>"
      ],
      "text/plain": [
       "                                                      URL Label\n",
       "106201                              xnfwq.com/index_f.asp   bad\n",
       "544763                          thecodega.com/878hf33f34f   bad\n",
       "116476  living4u.80port.net/zb/doc/file.index.htm/rema...   bad\n",
       "120511      escueladeparapente.cl/doc/docu/pvalidate.html   bad\n",
       "487300              www.comeinbaby.com/mac/getversion.php   bad\n",
       "7287                    www.ttok.asia/login/en/login.html   bad\n",
       "496252                                   www.tabsync.net/   bad\n",
       "133493  grenadineshomes.com/includes/.https/?https://w...   bad\n",
       "114389  lafayettebeauty.net/wp-content/plugins/2c8adb8...   bad\n",
       "104297              pragueproject.org/datafile/weldone/nD   bad"
      ]
     },
     "execution_count": 23,
     "metadata": {},
     "output_type": "execute_result"
    }
   ],
   "source": [
    "bad.sample(10)"
   ]
  },
  {
   "cell_type": "code",
   "execution_count": 24,
   "id": "113633c3-b3c5-4248-81ae-d9e1f2a3ccf1",
   "metadata": {},
   "outputs": [
    {
     "data": {
      "text/plain": [
       "(156422, 2)"
      ]
     },
     "execution_count": 24,
     "metadata": {},
     "output_type": "execute_result"
    }
   ],
   "source": [
    "good = good.sample(n=156422)\n",
    "good.shape"
   ]
  },
  {
   "cell_type": "code",
   "execution_count": 25,
   "id": "4148649f-0b8c-4373-80d9-cca8f2ebac1f",
   "metadata": {},
   "outputs": [
    {
     "data": {
      "text/plain": [
       "(156422, 2)"
      ]
     },
     "execution_count": 25,
     "metadata": {},
     "output_type": "execute_result"
    }
   ],
   "source": [
    "bad.shape"
   ]
  },
  {
   "cell_type": "code",
   "execution_count": 26,
   "id": "be1aadd6-8bd0-4534-98ae-7e3ec3d1b1ed",
   "metadata": {},
   "outputs": [],
   "source": [
    "data = pd.concat([good, bad], axis=0)"
   ]
  },
  {
   "cell_type": "code",
   "execution_count": 27,
   "id": "bac7ed28-4300-4d6e-93a0-9b8fecfb1417",
   "metadata": {},
   "outputs": [
    {
     "data": {
      "text/html": [
       "<div>\n",
       "<style scoped>\n",
       "    .dataframe tbody tr th:only-of-type {\n",
       "        vertical-align: middle;\n",
       "    }\n",
       "\n",
       "    .dataframe tbody tr th {\n",
       "        vertical-align: top;\n",
       "    }\n",
       "\n",
       "    .dataframe thead th {\n",
       "        text-align: right;\n",
       "    }\n",
       "</style>\n",
       "<table border=\"1\" class=\"dataframe\">\n",
       "  <thead>\n",
       "    <tr style=\"text-align: right;\">\n",
       "      <th></th>\n",
       "      <th>URL</th>\n",
       "      <th>Label</th>\n",
       "    </tr>\n",
       "  </thead>\n",
       "  <tbody>\n",
       "    <tr>\n",
       "      <th>468543</th>\n",
       "      <td>yellowpages.ca/bus/Quebec/Montreal/Altitude-Sp...</td>\n",
       "      <td>good</td>\n",
       "    </tr>\n",
       "    <tr>\n",
       "      <th>443230</th>\n",
       "      <td>theartistlabels.com/mouton/1988.html</td>\n",
       "      <td>good</td>\n",
       "    </tr>\n",
       "    <tr>\n",
       "      <th>156438</th>\n",
       "      <td>carmenoswalt.theworldrace.org/?filename=redefi...</td>\n",
       "      <td>good</td>\n",
       "    </tr>\n",
       "    <tr>\n",
       "      <th>247181</th>\n",
       "      <td>theproudpenguin.livejournal.com/49707.html</td>\n",
       "      <td>good</td>\n",
       "    </tr>\n",
       "    <tr>\n",
       "      <th>259795</th>\n",
       "      <td>winusvilottery.com/</td>\n",
       "      <td>good</td>\n",
       "    </tr>\n",
       "  </tbody>\n",
       "</table>\n",
       "</div>"
      ],
      "text/plain": [
       "                                                      URL Label\n",
       "468543  yellowpages.ca/bus/Quebec/Montreal/Altitude-Sp...  good\n",
       "443230               theartistlabels.com/mouton/1988.html  good\n",
       "156438  carmenoswalt.theworldrace.org/?filename=redefi...  good\n",
       "247181         theproudpenguin.livejournal.com/49707.html  good\n",
       "259795                                winusvilottery.com/  good"
      ]
     },
     "execution_count": 27,
     "metadata": {},
     "output_type": "execute_result"
    }
   ],
   "source": [
    "data.head()"
   ]
  },
  {
   "cell_type": "code",
   "execution_count": 28,
   "id": "57946fdd-22e3-4d3b-9874-d703a58dea99",
   "metadata": {},
   "outputs": [
    {
     "data": {
      "text/plain": [
       "(312844, 2)"
      ]
     },
     "execution_count": 28,
     "metadata": {},
     "output_type": "execute_result"
    }
   ],
   "source": [
    "data.shape"
   ]
  },
  {
   "cell_type": "code",
   "execution_count": 29,
   "id": "ae62d981-bfd5-497a-9a33-606c18b06287",
   "metadata": {},
   "outputs": [
    {
     "data": {
      "text/plain": [
       "Label\n",
       "good    156422\n",
       "bad     156422\n",
       "Name: count, dtype: int64"
      ]
     },
     "execution_count": 29,
     "metadata": {},
     "output_type": "execute_result"
    }
   ],
   "source": [
    "data.Label.value_counts()"
   ]
  },
  {
   "cell_type": "code",
   "execution_count": 30,
   "id": "2f50e9ea-076c-4a59-91e3-12834b981f09",
   "metadata": {},
   "outputs": [],
   "source": [
    "import time\n",
    "import nltk\n",
    "from nltk.corpus import stopwords\n",
    "import re\n",
    "from nltk.corpus import stopwords\n",
    "from nltk.tokenize import RegexpTokenizer \n",
    "from nltk.stem.snowball import SnowballStemmer\n",
    "from nltk.stem.porter import PorterStemmer\n",
    "from sklearn.feature_extraction.text import TfidfVectorizer\n",
    "from sklearn.model_selection import train_test_split\n",
    "from sklearn.linear_model import LogisticRegression\n",
    "from sklearn.metrics import accuracy_score"
   ]
  },
  {
   "cell_type": "code",
   "execution_count": 31,
   "id": "ed5721c7-db13-41bc-969e-26c21f79f651",
   "metadata": {},
   "outputs": [],
   "source": [
    "tokenizer = RegexpTokenizer(r'[A-Za-z]+')"
   ]
  },
  {
   "cell_type": "code",
   "execution_count": 32,
   "id": "c4f938f0-2117-4480-935d-25c7ef86f1a4",
   "metadata": {},
   "outputs": [
    {
     "data": {
      "text/plain": [
       "'nobell.it/70ffb52d079109dca5664cce6f317373782/login.SkyPe.com/en/cgi-bin/verification/login/70ffb52d079109dca5664cce6f317373/index.php?cmd=_profile-ach&outdated_page_tmpl=p/gen/failed-to-load&nav=0.5.1&login_access=1322408526'"
      ]
     },
     "execution_count": 32,
     "metadata": {},
     "output_type": "execute_result"
    }
   ],
   "source": [
    "data.URL[0]"
   ]
  },
  {
   "cell_type": "code",
   "execution_count": 33,
   "id": "42df4d0b-959d-4518-a5cb-1d117267ad38",
   "metadata": {},
   "outputs": [
    {
     "data": {
      "text/plain": [
       "['nobell',\n",
       " 'it',\n",
       " 'ffb',\n",
       " 'd',\n",
       " 'dca',\n",
       " 'cce',\n",
       " 'f',\n",
       " 'login',\n",
       " 'SkyPe',\n",
       " 'com',\n",
       " 'en',\n",
       " 'cgi',\n",
       " 'bin',\n",
       " 'verification',\n",
       " 'login',\n",
       " 'ffb',\n",
       " 'd',\n",
       " 'dca',\n",
       " 'cce',\n",
       " 'f',\n",
       " 'index',\n",
       " 'php',\n",
       " 'cmd',\n",
       " 'profile',\n",
       " 'ach',\n",
       " 'outdated',\n",
       " 'page',\n",
       " 'tmpl',\n",
       " 'p',\n",
       " 'gen',\n",
       " 'failed',\n",
       " 'to',\n",
       " 'load',\n",
       " 'nav',\n",
       " 'login',\n",
       " 'access']"
      ]
     },
     "execution_count": 33,
     "metadata": {},
     "output_type": "execute_result"
    }
   ],
   "source": [
    "tokenizer.tokenize(data.URL[0]) "
   ]
  },
  {
   "cell_type": "code",
   "execution_count": 34,
   "id": "7f22e406-63d9-46a3-84db-08b78aa8b6e7",
   "metadata": {},
   "outputs": [
    {
     "name": "stdout",
     "output_type": "stream",
     "text": [
      "Getting words tokenized ...\n",
      "Time taken 1.9356850999974995 sec\n"
     ]
    }
   ],
   "source": [
    "print('Getting words tokenized ...')\n",
    "t0= time.perf_counter()\n",
    "data['text_tokenized'] = data.URL.map(lambda t: tokenizer.tokenize(t)) # doing with all rows\n",
    "t1 = time.perf_counter() - t0\n",
    "print('Time taken',t1 ,'sec')"
   ]
  },
  {
   "cell_type": "code",
   "execution_count": 35,
   "id": "da4e55b0-8bfe-439c-aad7-8b15c43c6923",
   "metadata": {},
   "outputs": [
    {
     "data": {
      "text/html": [
       "<div>\n",
       "<style scoped>\n",
       "    .dataframe tbody tr th:only-of-type {\n",
       "        vertical-align: middle;\n",
       "    }\n",
       "\n",
       "    .dataframe tbody tr th {\n",
       "        vertical-align: top;\n",
       "    }\n",
       "\n",
       "    .dataframe thead th {\n",
       "        text-align: right;\n",
       "    }\n",
       "</style>\n",
       "<table border=\"1\" class=\"dataframe\">\n",
       "  <thead>\n",
       "    <tr style=\"text-align: right;\">\n",
       "      <th></th>\n",
       "      <th>URL</th>\n",
       "      <th>Label</th>\n",
       "      <th>text_tokenized</th>\n",
       "    </tr>\n",
       "  </thead>\n",
       "  <tbody>\n",
       "    <tr>\n",
       "      <th>101089</th>\n",
       "      <td>philmoirphotography.com.au/wp-includes/js/jcro...</td>\n",
       "      <td>bad</td>\n",
       "      <td>[philmoirphotography, com, au, wp, includes, j...</td>\n",
       "    </tr>\n",
       "    <tr>\n",
       "      <th>500790</th>\n",
       "      <td>symbolcontacttype.ru</td>\n",
       "      <td>bad</td>\n",
       "      <td>[symbolcontacttype, ru]</td>\n",
       "    </tr>\n",
       "    <tr>\n",
       "      <th>353458</th>\n",
       "      <td>hollywood.com/photo/Shira_Lazar_Shira_Lazar/52...</td>\n",
       "      <td>good</td>\n",
       "      <td>[hollywood, com, photo, Shira, Lazar, Shira, L...</td>\n",
       "    </tr>\n",
       "    <tr>\n",
       "      <th>143384</th>\n",
       "      <td>answers.yahoo.com/question/index?qid=201111011...</td>\n",
       "      <td>good</td>\n",
       "      <td>[answers, yahoo, com, question, index, qid, AA...</td>\n",
       "    </tr>\n",
       "    <tr>\n",
       "      <th>213582</th>\n",
       "      <td>minnesota.sbnation.com/minnesota-twins/2011/9/...</td>\n",
       "      <td>good</td>\n",
       "      <td>[minnesota, sbnation, com, minnesota, twins, m...</td>\n",
       "    </tr>\n",
       "  </tbody>\n",
       "</table>\n",
       "</div>"
      ],
      "text/plain": [
       "                                                      URL Label  \\\n",
       "101089  philmoirphotography.com.au/wp-includes/js/jcro...   bad   \n",
       "500790                               symbolcontacttype.ru   bad   \n",
       "353458  hollywood.com/photo/Shira_Lazar_Shira_Lazar/52...  good   \n",
       "143384  answers.yahoo.com/question/index?qid=201111011...  good   \n",
       "213582  minnesota.sbnation.com/minnesota-twins/2011/9/...  good   \n",
       "\n",
       "                                           text_tokenized  \n",
       "101089  [philmoirphotography, com, au, wp, includes, j...  \n",
       "500790                            [symbolcontacttype, ru]  \n",
       "353458  [hollywood, com, photo, Shira, Lazar, Shira, L...  \n",
       "143384  [answers, yahoo, com, question, index, qid, AA...  \n",
       "213582  [minnesota, sbnation, com, minnesota, twins, m...  "
      ]
     },
     "execution_count": 35,
     "metadata": {},
     "output_type": "execute_result"
    }
   ],
   "source": [
    "data.sample(5)"
   ]
  },
  {
   "cell_type": "code",
   "execution_count": 36,
   "id": "369a8c7c-f54b-44c5-91f0-bc6b451b9e81",
   "metadata": {},
   "outputs": [],
   "source": [
    "stemmer = SnowballStemmer(\"english\")"
   ]
  },
  {
   "cell_type": "code",
   "execution_count": 37,
   "id": "5201bc9c-5cfd-4519-a6bd-1f937b3b7d76",
   "metadata": {},
   "outputs": [
    {
     "name": "stdout",
     "output_type": "stream",
     "text": [
      "Getting words stemmed ...\n",
      "Time taken 13.037156099999265 sec\n"
     ]
    }
   ],
   "source": [
    "print('Getting words stemmed ...')\n",
    "t0= time.perf_counter()\n",
    "data['text_stemmed'] = data['text_tokenized'].map(lambda l: [stemmer.stem(word) for word in l])\n",
    "t1= time.perf_counter() - t0\n",
    "print('Time taken',t1 ,'sec')"
   ]
  },
  {
   "cell_type": "code",
   "execution_count": 38,
   "id": "dcbe8e98-fb9f-4315-a37c-09af8ca35fed",
   "metadata": {},
   "outputs": [
    {
     "data": {
      "text/html": [
       "<div>\n",
       "<style scoped>\n",
       "    .dataframe tbody tr th:only-of-type {\n",
       "        vertical-align: middle;\n",
       "    }\n",
       "\n",
       "    .dataframe tbody tr th {\n",
       "        vertical-align: top;\n",
       "    }\n",
       "\n",
       "    .dataframe thead th {\n",
       "        text-align: right;\n",
       "    }\n",
       "</style>\n",
       "<table border=\"1\" class=\"dataframe\">\n",
       "  <thead>\n",
       "    <tr style=\"text-align: right;\">\n",
       "      <th></th>\n",
       "      <th>URL</th>\n",
       "      <th>Label</th>\n",
       "      <th>text_tokenized</th>\n",
       "      <th>text_stemmed</th>\n",
       "    </tr>\n",
       "  </thead>\n",
       "  <tbody>\n",
       "    <tr>\n",
       "      <th>90074</th>\n",
       "      <td>www.apdl.co.uk/isv/games/sg.htm</td>\n",
       "      <td>good</td>\n",
       "      <td>[www, apdl, co, uk, isv, games, sg, htm]</td>\n",
       "      <td>[www, apdl, co, uk, isv, game, sg, htm]</td>\n",
       "    </tr>\n",
       "    <tr>\n",
       "      <th>294875</th>\n",
       "      <td>brainwashed.com/godspeed/</td>\n",
       "      <td>good</td>\n",
       "      <td>[brainwashed, com, godspeed]</td>\n",
       "      <td>[brainwash, com, godspe]</td>\n",
       "    </tr>\n",
       "    <tr>\n",
       "      <th>70611</th>\n",
       "      <td>mitpress.mit.edu/e-journals/Computer-Music-Jou...</td>\n",
       "      <td>good</td>\n",
       "      <td>[mitpress, mit, edu, e, journals, Computer, Mu...</td>\n",
       "      <td>[mitpress, mit, edu, e, journal, comput, music...</td>\n",
       "    </tr>\n",
       "    <tr>\n",
       "      <th>37893</th>\n",
       "      <td>mittl.hu/blog/wp-includes/login.htm</td>\n",
       "      <td>bad</td>\n",
       "      <td>[mittl, hu, blog, wp, includes, login, htm]</td>\n",
       "      <td>[mittl, hu, blog, wp, includ, login, htm]</td>\n",
       "    </tr>\n",
       "    <tr>\n",
       "      <th>508910</th>\n",
       "      <td>vapevoo.net/data/feeder</td>\n",
       "      <td>bad</td>\n",
       "      <td>[vapevoo, net, data, feeder]</td>\n",
       "      <td>[vapevoo, net, data, feeder]</td>\n",
       "    </tr>\n",
       "  </tbody>\n",
       "</table>\n",
       "</div>"
      ],
      "text/plain": [
       "                                                      URL Label  \\\n",
       "90074                     www.apdl.co.uk/isv/games/sg.htm  good   \n",
       "294875                          brainwashed.com/godspeed/  good   \n",
       "70611   mitpress.mit.edu/e-journals/Computer-Music-Jou...  good   \n",
       "37893                 mittl.hu/blog/wp-includes/login.htm   bad   \n",
       "508910                            vapevoo.net/data/feeder   bad   \n",
       "\n",
       "                                           text_tokenized  \\\n",
       "90074            [www, apdl, co, uk, isv, games, sg, htm]   \n",
       "294875                       [brainwashed, com, godspeed]   \n",
       "70611   [mitpress, mit, edu, e, journals, Computer, Mu...   \n",
       "37893         [mittl, hu, blog, wp, includes, login, htm]   \n",
       "508910                       [vapevoo, net, data, feeder]   \n",
       "\n",
       "                                             text_stemmed  \n",
       "90074             [www, apdl, co, uk, isv, game, sg, htm]  \n",
       "294875                           [brainwash, com, godspe]  \n",
       "70611   [mitpress, mit, edu, e, journal, comput, music...  \n",
       "37893           [mittl, hu, blog, wp, includ, login, htm]  \n",
       "508910                       [vapevoo, net, data, feeder]  "
      ]
     },
     "execution_count": 38,
     "metadata": {},
     "output_type": "execute_result"
    }
   ],
   "source": [
    "data.sample(5)"
   ]
  },
  {
   "cell_type": "code",
   "execution_count": 39,
   "id": "d03ffa95-0b60-4391-9bc5-1bf5b3638682",
   "metadata": {},
   "outputs": [
    {
     "name": "stdout",
     "output_type": "stream",
     "text": [
      "Getting joiningwords ...\n",
      "Time taken 0.17810559999998077 sec\n"
     ]
    }
   ],
   "source": [
    "print('Getting joiningwords ...')\n",
    "t0= time.perf_counter()\n",
    "data['text_sent'] = data['text_stemmed'].map(lambda l: ' '.join(l))\n",
    "t1= time.perf_counter() - t0\n",
    "print('Time taken',t1 ,'sec')"
   ]
  },
  {
   "cell_type": "code",
   "execution_count": 40,
   "id": "c84e5f74-ef1b-4d34-9d25-12d2dcbf3555",
   "metadata": {},
   "outputs": [
    {
     "data": {
      "text/html": [
       "<div>\n",
       "<style scoped>\n",
       "    .dataframe tbody tr th:only-of-type {\n",
       "        vertical-align: middle;\n",
       "    }\n",
       "\n",
       "    .dataframe tbody tr th {\n",
       "        vertical-align: top;\n",
       "    }\n",
       "\n",
       "    .dataframe thead th {\n",
       "        text-align: right;\n",
       "    }\n",
       "</style>\n",
       "<table border=\"1\" class=\"dataframe\">\n",
       "  <thead>\n",
       "    <tr style=\"text-align: right;\">\n",
       "      <th></th>\n",
       "      <th>URL</th>\n",
       "      <th>Label</th>\n",
       "      <th>text_tokenized</th>\n",
       "      <th>text_stemmed</th>\n",
       "      <th>text_sent</th>\n",
       "    </tr>\n",
       "  </thead>\n",
       "  <tbody>\n",
       "    <tr>\n",
       "      <th>125247</th>\n",
       "      <td>surubiproducciones.com/wp/wp-includes/1/jpg/ar...</td>\n",
       "      <td>bad</td>\n",
       "      <td>[surubiproducciones, com, wp, wp, includes, jp...</td>\n",
       "      <td>[surubiproduccion, com, wp, wp, includ, jpg, a...</td>\n",
       "      <td>surubiproduccion com wp wp includ jpg art new</td>\n",
       "    </tr>\n",
       "    <tr>\n",
       "      <th>49835</th>\n",
       "      <td>thepluginsite.com/products/photogalaxy/</td>\n",
       "      <td>good</td>\n",
       "      <td>[thepluginsite, com, products, photogalaxy]</td>\n",
       "      <td>[thepluginsit, com, product, photogalaxi]</td>\n",
       "      <td>thepluginsit com product photogalaxi</td>\n",
       "    </tr>\n",
       "    <tr>\n",
       "      <th>20019</th>\n",
       "      <td>gkjx168.com/images?us.battle.net/login/en/?ref...</td>\n",
       "      <td>bad</td>\n",
       "      <td>[gkjx, com, images, us, battle, net, login, en...</td>\n",
       "      <td>[gkjx, com, imag, us, battl, net, login, en, r...</td>\n",
       "      <td>gkjx com imag us battl net login en ref uqpzem...</td>\n",
       "    </tr>\n",
       "    <tr>\n",
       "      <th>501924</th>\n",
       "      <td>easysecure.net/</td>\n",
       "      <td>bad</td>\n",
       "      <td>[easysecure, net]</td>\n",
       "      <td>[easysecur, net]</td>\n",
       "      <td>easysecur net</td>\n",
       "    </tr>\n",
       "    <tr>\n",
       "      <th>519636</th>\n",
       "      <td>mxp224.com</td>\n",
       "      <td>bad</td>\n",
       "      <td>[mxp, com]</td>\n",
       "      <td>[mxp, com]</td>\n",
       "      <td>mxp com</td>\n",
       "    </tr>\n",
       "  </tbody>\n",
       "</table>\n",
       "</div>"
      ],
      "text/plain": [
       "                                                      URL Label  \\\n",
       "125247  surubiproducciones.com/wp/wp-includes/1/jpg/ar...   bad   \n",
       "49835             thepluginsite.com/products/photogalaxy/  good   \n",
       "20019   gkjx168.com/images?us.battle.net/login/en/?ref...   bad   \n",
       "501924                                    easysecure.net/   bad   \n",
       "519636                                         mxp224.com   bad   \n",
       "\n",
       "                                           text_tokenized  \\\n",
       "125247  [surubiproducciones, com, wp, wp, includes, jp...   \n",
       "49835         [thepluginsite, com, products, photogalaxy]   \n",
       "20019   [gkjx, com, images, us, battle, net, login, en...   \n",
       "501924                                  [easysecure, net]   \n",
       "519636                                         [mxp, com]   \n",
       "\n",
       "                                             text_stemmed  \\\n",
       "125247  [surubiproduccion, com, wp, wp, includ, jpg, a...   \n",
       "49835           [thepluginsit, com, product, photogalaxi]   \n",
       "20019   [gkjx, com, imag, us, battl, net, login, en, r...   \n",
       "501924                                   [easysecur, net]   \n",
       "519636                                         [mxp, com]   \n",
       "\n",
       "                                                text_sent  \n",
       "125247      surubiproduccion com wp wp includ jpg art new  \n",
       "49835                thepluginsit com product photogalaxi  \n",
       "20019   gkjx com imag us battl net login en ref uqpzem...  \n",
       "501924                                      easysecur net  \n",
       "519636                                            mxp com  "
      ]
     },
     "execution_count": 40,
     "metadata": {},
     "output_type": "execute_result"
    }
   ],
   "source": [
    "data.sample(5)"
   ]
  },
  {
   "cell_type": "code",
   "execution_count": 41,
   "id": "9d6370f7-2d7f-4bf4-a015-f8b4e41960e2",
   "metadata": {},
   "outputs": [
    {
     "data": {
      "text/html": [
       "<div>\n",
       "<style scoped>\n",
       "    .dataframe tbody tr th:only-of-type {\n",
       "        vertical-align: middle;\n",
       "    }\n",
       "\n",
       "    .dataframe tbody tr th {\n",
       "        vertical-align: top;\n",
       "    }\n",
       "\n",
       "    .dataframe thead th {\n",
       "        text-align: right;\n",
       "    }\n",
       "</style>\n",
       "<table border=\"1\" class=\"dataframe\">\n",
       "  <thead>\n",
       "    <tr style=\"text-align: right;\">\n",
       "      <th></th>\n",
       "      <th>Label</th>\n",
       "      <th>text_sent</th>\n",
       "    </tr>\n",
       "  </thead>\n",
       "  <tbody>\n",
       "    <tr>\n",
       "      <th>468543</th>\n",
       "      <td>good</td>\n",
       "      <td>yellowpag ca bus quebec montreal altitud sport...</td>\n",
       "    </tr>\n",
       "    <tr>\n",
       "      <th>443230</th>\n",
       "      <td>good</td>\n",
       "      <td>theartistlabel com mouton html</td>\n",
       "    </tr>\n",
       "    <tr>\n",
       "      <th>156438</th>\n",
       "      <td>good</td>\n",
       "      <td>carmenoswalt theworldrac org filenam redefin f...</td>\n",
       "    </tr>\n",
       "    <tr>\n",
       "      <th>247181</th>\n",
       "      <td>good</td>\n",
       "      <td>theproudpenguin livejourn com html</td>\n",
       "    </tr>\n",
       "    <tr>\n",
       "      <th>259795</th>\n",
       "      <td>good</td>\n",
       "      <td>winusvilotteri com</td>\n",
       "    </tr>\n",
       "  </tbody>\n",
       "</table>\n",
       "</div>"
      ],
      "text/plain": [
       "       Label                                          text_sent\n",
       "468543  good  yellowpag ca bus quebec montreal altitud sport...\n",
       "443230  good                     theartistlabel com mouton html\n",
       "156438  good  carmenoswalt theworldrac org filenam redefin f...\n",
       "247181  good                 theproudpenguin livejourn com html\n",
       "259795  good                                 winusvilotteri com"
      ]
     },
     "execution_count": 41,
     "metadata": {},
     "output_type": "execute_result"
    }
   ],
   "source": [
    "data = data.drop(['URL', 'text_tokenized', 'text_stemmed'], axis = 1)\n",
    "data.head()"
   ]
  },
  {
   "cell_type": "code",
   "execution_count": 42,
   "id": "e2d8023a-39a8-4c44-b659-64e3293ccd1b",
   "metadata": {},
   "outputs": [],
   "source": [
    "X = data.text_sent.values"
   ]
  },
  {
   "cell_type": "code",
   "execution_count": 43,
   "id": "f1b61644-7910-4faf-8efc-928a0a826640",
   "metadata": {},
   "outputs": [],
   "source": [
    "Y = data.Label.values"
   ]
  },
  {
   "cell_type": "code",
   "execution_count": 44,
   "id": "b8e4cadc-c6f0-49d3-b67c-10d21e5ac476",
   "metadata": {},
   "outputs": [
    {
     "data": {
      "text/plain": [
       "(312844,)"
      ]
     },
     "execution_count": 44,
     "metadata": {},
     "output_type": "execute_result"
    }
   ],
   "source": [
    "X.shape"
   ]
  },
  {
   "cell_type": "code",
   "execution_count": 45,
   "id": "2eb8d4d8-e40f-490e-b2fa-741ba510a234",
   "metadata": {},
   "outputs": [
    {
     "data": {
      "text/plain": [
       "(312844,)"
      ]
     },
     "execution_count": 45,
     "metadata": {},
     "output_type": "execute_result"
    }
   ],
   "source": [
    "Y.shape"
   ]
  },
  {
   "cell_type": "code",
   "execution_count": 46,
   "id": "6ef63993-3efb-4c37-ab3b-ac2197f8aa0d",
   "metadata": {},
   "outputs": [],
   "source": [
    "vector = TfidfVectorizer()\n",
    "vector.fit(X)\n",
    "X = vector.transform(X)"
   ]
  },
  {
   "cell_type": "code",
   "execution_count": 47,
   "id": "d537b6b5-001b-4476-a9cb-9784cf27a63b",
   "metadata": {},
   "outputs": [
    {
     "data": {
      "text/plain": [
       "(312844, 245279)"
      ]
     },
     "execution_count": 47,
     "metadata": {},
     "output_type": "execute_result"
    }
   ],
   "source": [
    "X.shape"
   ]
  },
  {
   "cell_type": "code",
   "execution_count": 48,
   "id": "130f1931-c5f5-4c12-984d-a92cc63e4a35",
   "metadata": {},
   "outputs": [
    {
     "name": "stdout",
     "output_type": "stream",
     "text": [
      "<Compressed Sparse Row sparse matrix of dtype 'float64'\n",
      "\twith 2207354 stored elements and shape (312844, 245279)>\n",
      "  Coords\tValues\n",
      "  (0, 5132)\t0.32668943816430873\n",
      "  (0, 7357)\t0.435101322038779\n",
      "  (0, 28552)\t0.339199610433694\n",
      "  (0, 29646)\t0.18572578861489836\n",
      "  (0, 95406)\t0.11987494349103558\n",
      "  (0, 138398)\t0.24522610994170785\n",
      "  (0, 164275)\t0.4868834717818309\n",
      "  (0, 172844)\t0.27713664186003445\n",
      "  (0, 195864)\t0.24785012801488565\n",
      "  (0, 237985)\t0.323441864776495\n",
      "  (1, 40737)\t0.07656498768707432\n",
      "  (1, 95406)\t0.15924177283554464\n",
      "  (1, 139234)\t0.6959812714594664\n",
      "  (1, 205299)\t0.6959812714594664\n",
      "  (2, 31744)\t0.5069654190186648\n",
      "  (2, 68723)\t0.290749822096741\n",
      "  (2, 72023)\t0.45796140512878847\n",
      "  (2, 155759)\t0.13929025538016904\n",
      "  (2, 176178)\t0.4337466041408961\n",
      "  (2, 207042)\t0.4911049423847993\n",
      "  (3, 40737)\t0.08922779688012662\n",
      "  (3, 95406)\t0.1855781995221292\n",
      "  (3, 123516)\t0.5474822484561601\n",
      "  (3, 206516)\t0.8110871221708744\n",
      "  (4, 40737)\t0.11283768058673176\n",
      "  :\t:\n",
      "  (312837, 212572)\t0.1440776392611881\n",
      "  (312837, 215722)\t0.1863951151116341\n",
      "  (312837, 218686)\t0.1523905426943848\n",
      "  (312837, 228737)\t0.14427994472822422\n",
      "  (312837, 234417)\t0.1530941251171826\n",
      "  (312837, 240488)\t0.14387794426018657\n",
      "  (312838, 40737)\t0.06111019540303821\n",
      "  (312838, 46531)\t0.3621547545094908\n",
      "  (312838, 54926)\t0.24394066902061462\n",
      "  (312838, 92964)\t0.3900201678427804\n",
      "  (312838, 103825)\t0.5381173278353706\n",
      "  (312838, 132358)\t0.29574410543869767\n",
      "  (312838, 137909)\t0.5257868979531748\n",
      "  (312840, 10246)\t0.5726509233165281\n",
      "  (312840, 35802)\t0.7733831329718918\n",
      "  (312840, 155759)\t0.2719364809276406\n",
      "  (312841, 10246)\t0.49821235191574204\n",
      "  (312841, 97467)\t0.8341527167393482\n",
      "  (312841, 155759)\t0.2365876107384944\n",
      "  (312842, 10246)\t0.4982123519157421\n",
      "  (312842, 155759)\t0.23658761073849444\n",
      "  (312842, 217363)\t0.8341527167393483\n",
      "  (312843, 10246)\t0.6908259377564767\n",
      "  (312843, 100661)\t0.45197193394015284\n",
      "  (312843, 186962)\t0.5643411155084156\n"
     ]
    }
   ],
   "source": [
    "print(X)"
   ]
  },
  {
   "cell_type": "code",
   "execution_count": 49,
   "id": "f4838e17-1741-443d-8ca8-04b01ae09b35",
   "metadata": {},
   "outputs": [],
   "source": [
    "X_train, X_test, Y_train, Y_test = train_test_split(X, Y, test_size=0.2, stratify = Y,random_state = 2)"
   ]
  },
  {
   "cell_type": "code",
   "execution_count": 50,
   "id": "0b9d7360-bdf8-444d-a33e-bdba9b4337ce",
   "metadata": {},
   "outputs": [
    {
     "name": "stdout",
     "output_type": "stream",
     "text": [
      "<Compressed Sparse Row sparse matrix of dtype 'float64'\n",
      "\twith 1763333 stored elements and shape (250275, 245279)>\n",
      "  Coords\tValues\n",
      "  (0, 40737)\t0.0746502806973803\n",
      "  (0, 68205)\t0.2852449871477484\n",
      "  (0, 130214)\t0.6785764465464661\n",
      "  (0, 156019)\t0.6129842614300259\n",
      "  (0, 161052)\t0.27721279611579985\n",
      "  (1, 40737)\t0.056619562363754795\n",
      "  (1, 43333)\t0.4010131097055421\n",
      "  (1, 47836)\t0.34983114739520677\n",
      "  (1, 100188)\t0.14701812800452163\n",
      "  (1, 146676)\t0.2828498331737458\n",
      "  (1, 162383)\t0.3789522470651778\n",
      "  (1, 162553)\t0.11826757136396117\n",
      "  (1, 197217)\t0.2913367329948148\n",
      "  (1, 207742)\t0.30030580661553585\n",
      "  (1, 207782)\t0.4403435056352992\n",
      "  (1, 224411)\t0.2922797030234043\n",
      "  (2, 17210)\t0.37918593656189564\n",
      "  (2, 17447)\t0.608185672547566\n",
      "  (2, 63733)\t0.22030616156231042\n",
      "  (2, 108997)\t0.5089674566204339\n",
      "  (2, 155759)\t0.19240961100680695\n",
      "  (2, 229411)\t0.2589610075987769\n",
      "  (2, 229446)\t0.2732458135748589\n",
      "  (3, 6046)\t0.1926421856749621\n",
      "  (3, 40737)\t0.04132837189903981\n",
      "  :\t:\n",
      "  (250270, 34722)\t0.2748065321089233\n",
      "  (250270, 35131)\t0.4578683276788568\n",
      "  (250270, 40737)\t0.06033253439885381\n",
      "  (250270, 104807)\t0.5484270979432949\n",
      "  (250270, 228221)\t0.3907711240730092\n",
      "  (250271, 28542)\t0.547528912002947\n",
      "  (250271, 40737)\t0.07422042326957867\n",
      "  (250271, 68905)\t0.5125902239893189\n",
      "  (250271, 196042)\t0.477089033670737\n",
      "  (250271, 207986)\t0.4520406348020674\n",
      "  (250272, 3007)\t0.24625956689737458\n",
      "  (250272, 40737)\t0.06680204283309622\n",
      "  (250272, 66515)\t0.564304023557445\n",
      "  (250272, 158428)\t0.4645890452124619\n",
      "  (250272, 162553)\t0.13953684977754507\n",
      "  (250272, 177601)\t0.3596991237620358\n",
      "  (250272, 201447)\t0.5017546300426898\n",
      "  (250273, 40737)\t0.12966808474551467\n",
      "  (250273, 99586)\t0.5811587430482256\n",
      "  (250273, 143220)\t0.524316886595504\n",
      "  (250273, 147884)\t0.6087138125653416\n",
      "  (250274, 31596)\t0.6506273260045573\n",
      "  (250274, 40737)\t0.08097267820491494\n",
      "  (250274, 95406)\t0.16840899761248868\n",
      "  (250274, 158880)\t0.736047496812291\n"
     ]
    }
   ],
   "source": [
    "print(X_train)"
   ]
  },
  {
   "cell_type": "code",
   "execution_count": 51,
   "id": "88647f4e-426f-482b-8ba2-44012fed15f5",
   "metadata": {},
   "outputs": [
    {
     "data": {
      "text/plain": [
       "array(['good', 'good', 'good', ..., 'bad', 'good', 'good'], dtype=object)"
      ]
     },
     "execution_count": 51,
     "metadata": {},
     "output_type": "execute_result"
    }
   ],
   "source": [
    "Y_train"
   ]
  },
  {
   "cell_type": "code",
   "execution_count": 52,
   "id": "18adce2e-3fd2-4143-b51f-997b83d25311",
   "metadata": {},
   "outputs": [
    {
     "name": "stdout",
     "output_type": "stream",
     "text": [
      "['good' 'good' 'good' ... 'bad' 'good' 'good']\n"
     ]
    }
   ],
   "source": [
    "print(Y_train)"
   ]
  },
  {
   "cell_type": "code",
   "execution_count": 53,
   "id": "91d7c831-d345-4768-ae3a-c0faf773fa01",
   "metadata": {},
   "outputs": [
    {
     "data": {
      "text/plain": [
       "<Compressed Sparse Row sparse matrix of dtype 'float64'\n",
       "\twith 444021 stored elements and shape (62569, 245279)>"
      ]
     },
     "execution_count": 53,
     "metadata": {},
     "output_type": "execute_result"
    }
   ],
   "source": [
    "X_test"
   ]
  },
  {
   "cell_type": "code",
   "execution_count": 54,
   "id": "399d4cd7-5543-461b-a47f-74be2bca7d63",
   "metadata": {},
   "outputs": [
    {
     "name": "stdout",
     "output_type": "stream",
     "text": [
      "<Compressed Sparse Row sparse matrix of dtype 'float64'\n",
      "\twith 444021 stored elements and shape (62569, 245279)>\n",
      "  Coords\tValues\n",
      "  (0, 95400)\t0.19734929421769876\n",
      "  (0, 145157)\t0.1937734104087703\n",
      "  (0, 194563)\t0.6795237749668257\n",
      "  (0, 218552)\t0.6795237749668257\n",
      "  (1, 3478)\t0.3054381136407092\n",
      "  (1, 8257)\t0.0996463678750276\n",
      "  (1, 18155)\t0.1413263516462269\n",
      "  (1, 18454)\t0.3022809308423806\n",
      "  (1, 32654)\t0.1309091806251492\n",
      "  (1, 34521)\t0.3098829449900248\n",
      "  (1, 34573)\t0.1633867341742125\n",
      "  (1, 39310)\t0.11200499393719096\n",
      "  (1, 40737)\t0.06631665909828609\n",
      "  (1, 49068)\t0.11661343346159533\n",
      "  (1, 50323)\t0.21591371861931774\n",
      "  (1, 50334)\t0.25455201615898687\n",
      "  (1, 53703)\t0.2126249782263928\n",
      "  (1, 68070)\t0.4590495549143734\n",
      "  (1, 70354)\t0.29725691042341695\n",
      "  (1, 71070)\t0.14246163590632224\n",
      "  (1, 124778)\t0.08724156726078437\n",
      "  (1, 142119)\t0.2664320332191672\n",
      "  (1, 159778)\t0.10327806428628934\n",
      "  (1, 162553)\t0.06926148741787898\n",
      "  (1, 182587)\t0.13400704234647812\n",
      "  :\t:\n",
      "  (62564, 187291)\t0.2293345412187041\n",
      "  (62565, 60970)\t0.32146384119494764\n",
      "  (62565, 100295)\t0.5001836564185196\n",
      "  (62565, 212020)\t0.804038126369633\n",
      "  (62566, 3007)\t0.26166332182054286\n",
      "  (62566, 3803)\t0.3163455960438539\n",
      "  (62566, 33352)\t0.32269131674160273\n",
      "  (62566, 40737)\t0.07098057002346048\n",
      "  (62566, 60526)\t0.3148861289226188\n",
      "  (62566, 95503)\t0.48113802415211\n",
      "  (62566, 99436)\t0.23127153211316015\n",
      "  (62566, 110015)\t0.24581344981879968\n",
      "  (62566, 181445)\t0.4839836080718456\n",
      "  (62566, 231788)\t0.2085470297638268\n",
      "  (62567, 40737)\t0.09065669671344764\n",
      "  (62567, 95406)\t0.18855006106793687\n",
      "  (62567, 100188)\t0.23539881421649456\n",
      "  (62567, 101834)\t0.5133647411760853\n",
      "  (62567, 227636)\t0.7982946063922531\n",
      "  (62568, 38263)\t0.597302508935536\n",
      "  (62568, 40737)\t0.0856763521142858\n",
      "  (62568, 68205)\t0.3273765313324943\n",
      "  (62568, 130347)\t0.5158586300156977\n",
      "  (62568, 157988)\t0.3140496366645868\n",
      "  (62568, 196948)\t0.4049402200196664\n"
     ]
    }
   ],
   "source": [
    "print(X_test)"
   ]
  },
  {
   "cell_type": "code",
   "execution_count": 55,
   "id": "1b076173-4a5d-45d4-866a-6f924710a94a",
   "metadata": {},
   "outputs": [
    {
     "data": {
      "text/plain": [
       "array(['good', 'bad', 'good', ..., 'bad', 'good', 'good'], dtype=object)"
      ]
     },
     "execution_count": 55,
     "metadata": {},
     "output_type": "execute_result"
    }
   ],
   "source": [
    "Y_test"
   ]
  },
  {
   "cell_type": "code",
   "execution_count": 56,
   "id": "0f1e7caa-e176-4ce4-acc2-f3d5a8acbbfd",
   "metadata": {},
   "outputs": [
    {
     "name": "stdout",
     "output_type": "stream",
     "text": [
      "['good' 'bad' 'good' ... 'bad' 'good' 'good']\n"
     ]
    }
   ],
   "source": [
    "print(Y_test)"
   ]
  },
  {
   "cell_type": "code",
   "execution_count": 57,
   "id": "4d8654a7-ee0b-4781-8ea1-6ab923b40b27",
   "metadata": {},
   "outputs": [],
   "source": [
    "from sklearn.preprocessing import LabelEncoder\n",
    "le = LabelEncoder()"
   ]
  },
  {
   "cell_type": "code",
   "execution_count": 58,
   "id": "09d7611a-4ca1-4423-86ff-ae2415f44d3c",
   "metadata": {},
   "outputs": [
    {
     "data": {
      "text/plain": [
       "array([1, 1, 1, ..., 0, 1, 1])"
      ]
     },
     "execution_count": 58,
     "metadata": {},
     "output_type": "execute_result"
    }
   ],
   "source": [
    "Y_train = le.fit_transform(Y_train)\n",
    "Y_train"
   ]
  },
  {
   "cell_type": "code",
   "execution_count": 59,
   "id": "0c3a08ac-1f43-449e-a36e-08e62edc8905",
   "metadata": {},
   "outputs": [
    {
     "data": {
      "text/plain": [
       "array([1, 0, 1, ..., 0, 1, 1])"
      ]
     },
     "execution_count": 59,
     "metadata": {},
     "output_type": "execute_result"
    }
   ],
   "source": [
    "Y_test = le.fit_transform(Y_test)\n",
    "Y_test"
   ]
  },
  {
   "cell_type": "code",
   "execution_count": 60,
   "id": "e44d348e-1127-4be7-9a71-5cd5ee13bb08",
   "metadata": {},
   "outputs": [
    {
     "data": {
      "text/html": [
       "<style>#sk-container-id-1 {\n",
       "  /* Definition of color scheme common for light and dark mode */\n",
       "  --sklearn-color-text: black;\n",
       "  --sklearn-color-line: gray;\n",
       "  /* Definition of color scheme for unfitted estimators */\n",
       "  --sklearn-color-unfitted-level-0: #fff5e6;\n",
       "  --sklearn-color-unfitted-level-1: #f6e4d2;\n",
       "  --sklearn-color-unfitted-level-2: #ffe0b3;\n",
       "  --sklearn-color-unfitted-level-3: chocolate;\n",
       "  /* Definition of color scheme for fitted estimators */\n",
       "  --sklearn-color-fitted-level-0: #f0f8ff;\n",
       "  --sklearn-color-fitted-level-1: #d4ebff;\n",
       "  --sklearn-color-fitted-level-2: #b3dbfd;\n",
       "  --sklearn-color-fitted-level-3: cornflowerblue;\n",
       "\n",
       "  /* Specific color for light theme */\n",
       "  --sklearn-color-text-on-default-background: var(--sg-text-color, var(--theme-code-foreground, var(--jp-content-font-color1, black)));\n",
       "  --sklearn-color-background: var(--sg-background-color, var(--theme-background, var(--jp-layout-color0, white)));\n",
       "  --sklearn-color-border-box: var(--sg-text-color, var(--theme-code-foreground, var(--jp-content-font-color1, black)));\n",
       "  --sklearn-color-icon: #696969;\n",
       "\n",
       "  @media (prefers-color-scheme: dark) {\n",
       "    /* Redefinition of color scheme for dark theme */\n",
       "    --sklearn-color-text-on-default-background: var(--sg-text-color, var(--theme-code-foreground, var(--jp-content-font-color1, white)));\n",
       "    --sklearn-color-background: var(--sg-background-color, var(--theme-background, var(--jp-layout-color0, #111)));\n",
       "    --sklearn-color-border-box: var(--sg-text-color, var(--theme-code-foreground, var(--jp-content-font-color1, white)));\n",
       "    --sklearn-color-icon: #878787;\n",
       "  }\n",
       "}\n",
       "\n",
       "#sk-container-id-1 {\n",
       "  color: var(--sklearn-color-text);\n",
       "}\n",
       "\n",
       "#sk-container-id-1 pre {\n",
       "  padding: 0;\n",
       "}\n",
       "\n",
       "#sk-container-id-1 input.sk-hidden--visually {\n",
       "  border: 0;\n",
       "  clip: rect(1px 1px 1px 1px);\n",
       "  clip: rect(1px, 1px, 1px, 1px);\n",
       "  height: 1px;\n",
       "  margin: -1px;\n",
       "  overflow: hidden;\n",
       "  padding: 0;\n",
       "  position: absolute;\n",
       "  width: 1px;\n",
       "}\n",
       "\n",
       "#sk-container-id-1 div.sk-dashed-wrapped {\n",
       "  border: 1px dashed var(--sklearn-color-line);\n",
       "  margin: 0 0.4em 0.5em 0.4em;\n",
       "  box-sizing: border-box;\n",
       "  padding-bottom: 0.4em;\n",
       "  background-color: var(--sklearn-color-background);\n",
       "}\n",
       "\n",
       "#sk-container-id-1 div.sk-container {\n",
       "  /* jupyter's `normalize.less` sets `[hidden] { display: none; }`\n",
       "     but bootstrap.min.css set `[hidden] { display: none !important; }`\n",
       "     so we also need the `!important` here to be able to override the\n",
       "     default hidden behavior on the sphinx rendered scikit-learn.org.\n",
       "     See: https://github.com/scikit-learn/scikit-learn/issues/21755 */\n",
       "  display: inline-block !important;\n",
       "  position: relative;\n",
       "}\n",
       "\n",
       "#sk-container-id-1 div.sk-text-repr-fallback {\n",
       "  display: none;\n",
       "}\n",
       "\n",
       "div.sk-parallel-item,\n",
       "div.sk-serial,\n",
       "div.sk-item {\n",
       "  /* draw centered vertical line to link estimators */\n",
       "  background-image: linear-gradient(var(--sklearn-color-text-on-default-background), var(--sklearn-color-text-on-default-background));\n",
       "  background-size: 2px 100%;\n",
       "  background-repeat: no-repeat;\n",
       "  background-position: center center;\n",
       "}\n",
       "\n",
       "/* Parallel-specific style estimator block */\n",
       "\n",
       "#sk-container-id-1 div.sk-parallel-item::after {\n",
       "  content: \"\";\n",
       "  width: 100%;\n",
       "  border-bottom: 2px solid var(--sklearn-color-text-on-default-background);\n",
       "  flex-grow: 1;\n",
       "}\n",
       "\n",
       "#sk-container-id-1 div.sk-parallel {\n",
       "  display: flex;\n",
       "  align-items: stretch;\n",
       "  justify-content: center;\n",
       "  background-color: var(--sklearn-color-background);\n",
       "  position: relative;\n",
       "}\n",
       "\n",
       "#sk-container-id-1 div.sk-parallel-item {\n",
       "  display: flex;\n",
       "  flex-direction: column;\n",
       "}\n",
       "\n",
       "#sk-container-id-1 div.sk-parallel-item:first-child::after {\n",
       "  align-self: flex-end;\n",
       "  width: 50%;\n",
       "}\n",
       "\n",
       "#sk-container-id-1 div.sk-parallel-item:last-child::after {\n",
       "  align-self: flex-start;\n",
       "  width: 50%;\n",
       "}\n",
       "\n",
       "#sk-container-id-1 div.sk-parallel-item:only-child::after {\n",
       "  width: 0;\n",
       "}\n",
       "\n",
       "/* Serial-specific style estimator block */\n",
       "\n",
       "#sk-container-id-1 div.sk-serial {\n",
       "  display: flex;\n",
       "  flex-direction: column;\n",
       "  align-items: center;\n",
       "  background-color: var(--sklearn-color-background);\n",
       "  padding-right: 1em;\n",
       "  padding-left: 1em;\n",
       "}\n",
       "\n",
       "\n",
       "/* Toggleable style: style used for estimator/Pipeline/ColumnTransformer box that is\n",
       "clickable and can be expanded/collapsed.\n",
       "- Pipeline and ColumnTransformer use this feature and define the default style\n",
       "- Estimators will overwrite some part of the style using the `sk-estimator` class\n",
       "*/\n",
       "\n",
       "/* Pipeline and ColumnTransformer style (default) */\n",
       "\n",
       "#sk-container-id-1 div.sk-toggleable {\n",
       "  /* Default theme specific background. It is overwritten whether we have a\n",
       "  specific estimator or a Pipeline/ColumnTransformer */\n",
       "  background-color: var(--sklearn-color-background);\n",
       "}\n",
       "\n",
       "/* Toggleable label */\n",
       "#sk-container-id-1 label.sk-toggleable__label {\n",
       "  cursor: pointer;\n",
       "  display: block;\n",
       "  width: 100%;\n",
       "  margin-bottom: 0;\n",
       "  padding: 0.5em;\n",
       "  box-sizing: border-box;\n",
       "  text-align: center;\n",
       "}\n",
       "\n",
       "#sk-container-id-1 label.sk-toggleable__label-arrow:before {\n",
       "  /* Arrow on the left of the label */\n",
       "  content: \"▸\";\n",
       "  float: left;\n",
       "  margin-right: 0.25em;\n",
       "  color: var(--sklearn-color-icon);\n",
       "}\n",
       "\n",
       "#sk-container-id-1 label.sk-toggleable__label-arrow:hover:before {\n",
       "  color: var(--sklearn-color-text);\n",
       "}\n",
       "\n",
       "/* Toggleable content - dropdown */\n",
       "\n",
       "#sk-container-id-1 div.sk-toggleable__content {\n",
       "  max-height: 0;\n",
       "  max-width: 0;\n",
       "  overflow: hidden;\n",
       "  text-align: left;\n",
       "  /* unfitted */\n",
       "  background-color: var(--sklearn-color-unfitted-level-0);\n",
       "}\n",
       "\n",
       "#sk-container-id-1 div.sk-toggleable__content.fitted {\n",
       "  /* fitted */\n",
       "  background-color: var(--sklearn-color-fitted-level-0);\n",
       "}\n",
       "\n",
       "#sk-container-id-1 div.sk-toggleable__content pre {\n",
       "  margin: 0.2em;\n",
       "  border-radius: 0.25em;\n",
       "  color: var(--sklearn-color-text);\n",
       "  /* unfitted */\n",
       "  background-color: var(--sklearn-color-unfitted-level-0);\n",
       "}\n",
       "\n",
       "#sk-container-id-1 div.sk-toggleable__content.fitted pre {\n",
       "  /* unfitted */\n",
       "  background-color: var(--sklearn-color-fitted-level-0);\n",
       "}\n",
       "\n",
       "#sk-container-id-1 input.sk-toggleable__control:checked~div.sk-toggleable__content {\n",
       "  /* Expand drop-down */\n",
       "  max-height: 200px;\n",
       "  max-width: 100%;\n",
       "  overflow: auto;\n",
       "}\n",
       "\n",
       "#sk-container-id-1 input.sk-toggleable__control:checked~label.sk-toggleable__label-arrow:before {\n",
       "  content: \"▾\";\n",
       "}\n",
       "\n",
       "/* Pipeline/ColumnTransformer-specific style */\n",
       "\n",
       "#sk-container-id-1 div.sk-label input.sk-toggleable__control:checked~label.sk-toggleable__label {\n",
       "  color: var(--sklearn-color-text);\n",
       "  background-color: var(--sklearn-color-unfitted-level-2);\n",
       "}\n",
       "\n",
       "#sk-container-id-1 div.sk-label.fitted input.sk-toggleable__control:checked~label.sk-toggleable__label {\n",
       "  background-color: var(--sklearn-color-fitted-level-2);\n",
       "}\n",
       "\n",
       "/* Estimator-specific style */\n",
       "\n",
       "/* Colorize estimator box */\n",
       "#sk-container-id-1 div.sk-estimator input.sk-toggleable__control:checked~label.sk-toggleable__label {\n",
       "  /* unfitted */\n",
       "  background-color: var(--sklearn-color-unfitted-level-2);\n",
       "}\n",
       "\n",
       "#sk-container-id-1 div.sk-estimator.fitted input.sk-toggleable__control:checked~label.sk-toggleable__label {\n",
       "  /* fitted */\n",
       "  background-color: var(--sklearn-color-fitted-level-2);\n",
       "}\n",
       "\n",
       "#sk-container-id-1 div.sk-label label.sk-toggleable__label,\n",
       "#sk-container-id-1 div.sk-label label {\n",
       "  /* The background is the default theme color */\n",
       "  color: var(--sklearn-color-text-on-default-background);\n",
       "}\n",
       "\n",
       "/* On hover, darken the color of the background */\n",
       "#sk-container-id-1 div.sk-label:hover label.sk-toggleable__label {\n",
       "  color: var(--sklearn-color-text);\n",
       "  background-color: var(--sklearn-color-unfitted-level-2);\n",
       "}\n",
       "\n",
       "/* Label box, darken color on hover, fitted */\n",
       "#sk-container-id-1 div.sk-label.fitted:hover label.sk-toggleable__label.fitted {\n",
       "  color: var(--sklearn-color-text);\n",
       "  background-color: var(--sklearn-color-fitted-level-2);\n",
       "}\n",
       "\n",
       "/* Estimator label */\n",
       "\n",
       "#sk-container-id-1 div.sk-label label {\n",
       "  font-family: monospace;\n",
       "  font-weight: bold;\n",
       "  display: inline-block;\n",
       "  line-height: 1.2em;\n",
       "}\n",
       "\n",
       "#sk-container-id-1 div.sk-label-container {\n",
       "  text-align: center;\n",
       "}\n",
       "\n",
       "/* Estimator-specific */\n",
       "#sk-container-id-1 div.sk-estimator {\n",
       "  font-family: monospace;\n",
       "  border: 1px dotted var(--sklearn-color-border-box);\n",
       "  border-radius: 0.25em;\n",
       "  box-sizing: border-box;\n",
       "  margin-bottom: 0.5em;\n",
       "  /* unfitted */\n",
       "  background-color: var(--sklearn-color-unfitted-level-0);\n",
       "}\n",
       "\n",
       "#sk-container-id-1 div.sk-estimator.fitted {\n",
       "  /* fitted */\n",
       "  background-color: var(--sklearn-color-fitted-level-0);\n",
       "}\n",
       "\n",
       "/* on hover */\n",
       "#sk-container-id-1 div.sk-estimator:hover {\n",
       "  /* unfitted */\n",
       "  background-color: var(--sklearn-color-unfitted-level-2);\n",
       "}\n",
       "\n",
       "#sk-container-id-1 div.sk-estimator.fitted:hover {\n",
       "  /* fitted */\n",
       "  background-color: var(--sklearn-color-fitted-level-2);\n",
       "}\n",
       "\n",
       "/* Specification for estimator info (e.g. \"i\" and \"?\") */\n",
       "\n",
       "/* Common style for \"i\" and \"?\" */\n",
       "\n",
       ".sk-estimator-doc-link,\n",
       "a:link.sk-estimator-doc-link,\n",
       "a:visited.sk-estimator-doc-link {\n",
       "  float: right;\n",
       "  font-size: smaller;\n",
       "  line-height: 1em;\n",
       "  font-family: monospace;\n",
       "  background-color: var(--sklearn-color-background);\n",
       "  border-radius: 1em;\n",
       "  height: 1em;\n",
       "  width: 1em;\n",
       "  text-decoration: none !important;\n",
       "  margin-left: 1ex;\n",
       "  /* unfitted */\n",
       "  border: var(--sklearn-color-unfitted-level-1) 1pt solid;\n",
       "  color: var(--sklearn-color-unfitted-level-1);\n",
       "}\n",
       "\n",
       ".sk-estimator-doc-link.fitted,\n",
       "a:link.sk-estimator-doc-link.fitted,\n",
       "a:visited.sk-estimator-doc-link.fitted {\n",
       "  /* fitted */\n",
       "  border: var(--sklearn-color-fitted-level-1) 1pt solid;\n",
       "  color: var(--sklearn-color-fitted-level-1);\n",
       "}\n",
       "\n",
       "/* On hover */\n",
       "div.sk-estimator:hover .sk-estimator-doc-link:hover,\n",
       ".sk-estimator-doc-link:hover,\n",
       "div.sk-label-container:hover .sk-estimator-doc-link:hover,\n",
       ".sk-estimator-doc-link:hover {\n",
       "  /* unfitted */\n",
       "  background-color: var(--sklearn-color-unfitted-level-3);\n",
       "  color: var(--sklearn-color-background);\n",
       "  text-decoration: none;\n",
       "}\n",
       "\n",
       "div.sk-estimator.fitted:hover .sk-estimator-doc-link.fitted:hover,\n",
       ".sk-estimator-doc-link.fitted:hover,\n",
       "div.sk-label-container:hover .sk-estimator-doc-link.fitted:hover,\n",
       ".sk-estimator-doc-link.fitted:hover {\n",
       "  /* fitted */\n",
       "  background-color: var(--sklearn-color-fitted-level-3);\n",
       "  color: var(--sklearn-color-background);\n",
       "  text-decoration: none;\n",
       "}\n",
       "\n",
       "/* Span, style for the box shown on hovering the info icon */\n",
       ".sk-estimator-doc-link span {\n",
       "  display: none;\n",
       "  z-index: 9999;\n",
       "  position: relative;\n",
       "  font-weight: normal;\n",
       "  right: .2ex;\n",
       "  padding: .5ex;\n",
       "  margin: .5ex;\n",
       "  width: min-content;\n",
       "  min-width: 20ex;\n",
       "  max-width: 50ex;\n",
       "  color: var(--sklearn-color-text);\n",
       "  box-shadow: 2pt 2pt 4pt #999;\n",
       "  /* unfitted */\n",
       "  background: var(--sklearn-color-unfitted-level-0);\n",
       "  border: .5pt solid var(--sklearn-color-unfitted-level-3);\n",
       "}\n",
       "\n",
       ".sk-estimator-doc-link.fitted span {\n",
       "  /* fitted */\n",
       "  background: var(--sklearn-color-fitted-level-0);\n",
       "  border: var(--sklearn-color-fitted-level-3);\n",
       "}\n",
       "\n",
       ".sk-estimator-doc-link:hover span {\n",
       "  display: block;\n",
       "}\n",
       "\n",
       "/* \"?\"-specific style due to the `<a>` HTML tag */\n",
       "\n",
       "#sk-container-id-1 a.estimator_doc_link {\n",
       "  float: right;\n",
       "  font-size: 1rem;\n",
       "  line-height: 1em;\n",
       "  font-family: monospace;\n",
       "  background-color: var(--sklearn-color-background);\n",
       "  border-radius: 1rem;\n",
       "  height: 1rem;\n",
       "  width: 1rem;\n",
       "  text-decoration: none;\n",
       "  /* unfitted */\n",
       "  color: var(--sklearn-color-unfitted-level-1);\n",
       "  border: var(--sklearn-color-unfitted-level-1) 1pt solid;\n",
       "}\n",
       "\n",
       "#sk-container-id-1 a.estimator_doc_link.fitted {\n",
       "  /* fitted */\n",
       "  border: var(--sklearn-color-fitted-level-1) 1pt solid;\n",
       "  color: var(--sklearn-color-fitted-level-1);\n",
       "}\n",
       "\n",
       "/* On hover */\n",
       "#sk-container-id-1 a.estimator_doc_link:hover {\n",
       "  /* unfitted */\n",
       "  background-color: var(--sklearn-color-unfitted-level-3);\n",
       "  color: var(--sklearn-color-background);\n",
       "  text-decoration: none;\n",
       "}\n",
       "\n",
       "#sk-container-id-1 a.estimator_doc_link.fitted:hover {\n",
       "  /* fitted */\n",
       "  background-color: var(--sklearn-color-fitted-level-3);\n",
       "}\n",
       "</style><div id=\"sk-container-id-1\" class=\"sk-top-container\"><div class=\"sk-text-repr-fallback\"><pre>LogisticRegression()</pre><b>In a Jupyter environment, please rerun this cell to show the HTML representation or trust the notebook. <br />On GitHub, the HTML representation is unable to render, please try loading this page with nbviewer.org.</b></div><div class=\"sk-container\" hidden><div class=\"sk-item\"><div class=\"sk-estimator fitted sk-toggleable\"><input class=\"sk-toggleable__control sk-hidden--visually\" id=\"sk-estimator-id-1\" type=\"checkbox\" checked><label for=\"sk-estimator-id-1\" class=\"sk-toggleable__label fitted sk-toggleable__label-arrow fitted\">&nbsp;&nbsp;LogisticRegression<a class=\"sk-estimator-doc-link fitted\" rel=\"noreferrer\" target=\"_blank\" href=\"https://scikit-learn.org/1.5/modules/generated/sklearn.linear_model.LogisticRegression.html\">?<span>Documentation for LogisticRegression</span></a><span class=\"sk-estimator-doc-link fitted\">i<span>Fitted</span></span></label><div class=\"sk-toggleable__content fitted\"><pre>LogisticRegression()</pre></div> </div></div></div></div>"
      ],
      "text/plain": [
       "LogisticRegression()"
      ]
     },
     "execution_count": 60,
     "metadata": {},
     "output_type": "execute_result"
    }
   ],
   "source": [
    "model = LogisticRegression()\n",
    "model.fit(X_train, Y_train)"
   ]
  },
  {
   "cell_type": "code",
   "execution_count": 61,
   "id": "04b0f286-73aa-407d-a2eb-d17753a9beb6",
   "metadata": {},
   "outputs": [
    {
     "data": {
      "text/plain": [
       "array([1, 0, 1, ..., 0, 1, 1])"
      ]
     },
     "execution_count": 61,
     "metadata": {},
     "output_type": "execute_result"
    }
   ],
   "source": [
    "model.predict(X_test)"
   ]
  },
  {
   "cell_type": "code",
   "execution_count": 62,
   "id": "70fff1eb-557d-4a2e-9e85-eba7ddcbbd49",
   "metadata": {},
   "outputs": [],
   "source": [
    "X_train_prediction = model.predict(X_train)\n",
    "training_data_accuracy = accuracy_score(X_train_prediction, Y_train)"
   ]
  },
  {
   "cell_type": "code",
   "execution_count": 63,
   "id": "df8374d2-d26c-499f-8166-c5fd680021cc",
   "metadata": {},
   "outputs": [
    {
     "data": {
      "text/plain": [
       "0.967623614024573"
      ]
     },
     "execution_count": 63,
     "metadata": {},
     "output_type": "execute_result"
    }
   ],
   "source": [
    "training_data_accuracy"
   ]
  },
  {
   "cell_type": "code",
   "execution_count": 64,
   "id": "458b3f94-95e1-4360-a4f7-6558925b623e",
   "metadata": {},
   "outputs": [],
   "source": [
    "X_test_prediction = model.predict(X_test)\n",
    "testing_data_accuracy = accuracy_score(X_test_prediction, Y_test)"
   ]
  },
  {
   "cell_type": "code",
   "execution_count": 65,
   "id": "1793b1af-d2b5-4450-bb10-036ec35dff29",
   "metadata": {},
   "outputs": [
    {
     "data": {
      "text/plain": [
       "0.9496555802394157"
      ]
     },
     "execution_count": 65,
     "metadata": {},
     "output_type": "execute_result"
    }
   ],
   "source": [
    "testing_data_accuracy"
   ]
  },
  {
   "cell_type": "code",
   "execution_count": 66,
   "id": "61160bfd-db76-4653-96b3-1e425e98365b",
   "metadata": {},
   "outputs": [
    {
     "data": {
      "text/plain": [
       "'nobel it ffb d dca cce f login skype com en cgi bin verif login ffb d dca cce f index php cmd profil ach outdat page tmpl p gen fail to load nav login access'"
      ]
     },
     "execution_count": 66,
     "metadata": {},
     "output_type": "execute_result"
    }
   ],
   "source": [
    "data.text_sent[0]"
   ]
  },
  {
   "cell_type": "code",
   "execution_count": 67,
   "id": "098c337b-378d-4ee4-8737-ce549fcc2d0b",
   "metadata": {},
   "outputs": [
    {
     "data": {
      "text/plain": [
       "array([0])"
      ]
     },
     "execution_count": 67,
     "metadata": {},
     "output_type": "execute_result"
    }
   ],
   "source": [
    "testing = data.text_sent[0]\n",
    "testing = [testing]\n",
    "testing = vector.transform(testing)\n",
    "model.predict(testing)"
   ]
  },
  {
   "cell_type": "code",
   "execution_count": 68,
   "id": "a68b10d8-d6d1-432d-8a01-b99853684d0e",
   "metadata": {},
   "outputs": [],
   "source": [
    "import pickle\n",
    "with open('model.pickle', 'wb') as file:\n",
    "     pickle.dump(model, file)"
   ]
  },
  {
   "cell_type": "code",
   "execution_count": 69,
   "id": "d26dbcee-492d-4e2b-a1cd-39dcb93523b6",
   "metadata": {},
   "outputs": [],
   "source": [
    "with open('model.pickle', 'rb') as file:\n",
    "     model = pickle.load(file)"
   ]
  },
  {
   "cell_type": "code",
   "execution_count": 70,
   "id": "a6d97c9b-22bc-465a-be9c-805932e45253",
   "metadata": {},
   "outputs": [
    {
     "name": "stdout",
     "output_type": "stream",
     "text": [
      "Real Website\n"
     ]
    }
   ],
   "source": [
    "testing = \"www.google.com\"\n",
    "testing = [testing]\n",
    "testing = vector.transform(testing)\n",
    "prediction=model.predict(testing)\n",
    "if prediction == 0:\n",
    "    print(\"Fake Website\")\n",
    "else:\n",
    "    print(\"Real Website\")"
   ]
  },
  {
   "cell_type": "code",
   "execution_count": 71,
   "id": "2a50d56f-9872-4989-8b6f-04cf1321e35b",
   "metadata": {},
   "outputs": [
    {
     "name": "stdout",
     "output_type": "stream",
     "text": [
      "Real Website\n"
     ]
    }
   ],
   "source": [
    "testing = \"www.xyzxcf\"\n",
    "testing = [testing]\n",
    "testing = vector.transform(testing)\n",
    "prediction=model.predict(testing)\n",
    "if prediction == 0:\n",
    "    print(\"Fake Website\")\n",
    "else:\n",
    "    print(\"Real Website\")"
   ]
  },
  {
   "cell_type": "code",
   "execution_count": 72,
   "id": "39a84c52-31d3-4df8-8709-cac6d8599c19",
   "metadata": {},
   "outputs": [
    {
     "name": "stdout",
     "output_type": "stream",
     "text": [
      "Real Website\n"
     ]
    }
   ],
   "source": [
    "testing = \"www.facebook.com\"\n",
    "testing = [testing]\n",
    "testing = vector.transform(testing)\n",
    "prediction=model.predict(testing)\n",
    "if prediction == 0:\n",
    "    print(\"Fake Website\")\n",
    "else:\n",
    "    print(\"Real Website\")"
   ]
  },
  {
   "cell_type": "code",
   "execution_count": 73,
   "id": "d90c69da-9b78-4712-a9aa-51eba5be0775",
   "metadata": {},
   "outputs": [
    {
     "name": "stdout",
     "output_type": "stream",
     "text": [
      "Fake Website\n"
     ]
    }
   ],
   "source": [
    "testing = \"w.xyzxcf\"\n",
    "testing = [testing]\n",
    "testing = vector.transform(testing)\n",
    "prediction=model.predict(testing)\n",
    "if prediction == 0:\n",
    "    print(\"Fake Website\")\n",
    "else:\n",
    "    print(\"Real Website\")"
   ]
  },
  {
   "cell_type": "code",
   "execution_count": 74,
   "id": "4e17949b-bccf-4b94-ad19-8257c57e2a52",
   "metadata": {},
   "outputs": [
    {
     "name": "stdout",
     "output_type": "stream",
     "text": [
      "Fake Website\n"
     ]
    }
   ],
   "source": [
    "testing = \"w.vgffh\"\n",
    "testing = [testing]\n",
    "testing = vector.transform(testing)\n",
    "prediction=model.predict(testing)\n",
    "if prediction == 0:\n",
    "    print(\"Fake Website\")\n",
    "else:\n",
    "    print(\"Real Website\")"
   ]
  },
  {
   "cell_type": "code",
   "execution_count": 75,
   "id": "6246b760-6c64-4057-a312-5e3dcaa80624",
   "metadata": {},
   "outputs": [
    {
     "name": "stdout",
     "output_type": "stream",
     "text": [
      "Real Website\n"
     ]
    }
   ],
   "source": [
    "testing = \"www.google.com\"\n",
    "testing = [testing]\n",
    "testing = vector.transform(testing)\n",
    "prediction=model.predict(testing)\n",
    "if prediction == 0:\n",
    "    print(\"Fake Website\")\n",
    "else:\n",
    "    print(\"Real Website\")"
   ]
  },
  {
   "cell_type": "code",
   "execution_count": null,
   "id": "be7dfebe-e892-4302-a221-61af842cb06e",
   "metadata": {},
   "outputs": [],
   "source": []
  },
  {
   "cell_type": "code",
   "execution_count": null,
   "id": "ba7fb1f3-38bf-4f5b-abd4-4293c43ba136",
   "metadata": {},
   "outputs": [],
   "source": []
  },
  {
   "cell_type": "code",
   "execution_count": null,
   "id": "dae66584-462a-4c30-9ef8-ac39c51ed31d",
   "metadata": {},
   "outputs": [],
   "source": []
  },
  {
   "cell_type": "code",
   "execution_count": null,
   "id": "a55ab871-4cd0-4987-ab8d-c19c35b6a21f",
   "metadata": {},
   "outputs": [],
   "source": []
  },
  {
   "cell_type": "code",
   "execution_count": null,
   "id": "1ef67991-2c81-45f4-b1e2-dd9687941d80",
   "metadata": {},
   "outputs": [],
   "source": []
  },
  {
   "cell_type": "code",
   "execution_count": null,
   "id": "dc2c122e-4c46-4a86-81b3-b83f39eb06d7",
   "metadata": {},
   "outputs": [],
   "source": []
  },
  {
   "cell_type": "code",
   "execution_count": null,
   "id": "676acfb8-d5ea-4bb9-b5f4-0b9a1db04f56",
   "metadata": {},
   "outputs": [],
   "source": []
  },
  {
   "cell_type": "code",
   "execution_count": null,
   "id": "a3582e5a-5ce4-4cff-9112-d36f99667312",
   "metadata": {},
   "outputs": [],
   "source": []
  },
  {
   "cell_type": "code",
   "execution_count": null,
   "id": "98077f23-86c3-465d-b8e4-ad4427b74dfd",
   "metadata": {},
   "outputs": [],
   "source": []
  },
  {
   "cell_type": "code",
   "execution_count": null,
   "id": "d51f295f-9a40-41c2-8ba8-ec03b33c7a9f",
   "metadata": {},
   "outputs": [],
   "source": []
  },
  {
   "cell_type": "code",
   "execution_count": null,
   "id": "e228281f-9658-4a59-8479-71795c5da1e7",
   "metadata": {},
   "outputs": [],
   "source": []
  },
  {
   "cell_type": "code",
   "execution_count": null,
   "id": "bbfaf27d-b7a9-41f6-829f-77458b471028",
   "metadata": {},
   "outputs": [],
   "source": []
  },
  {
   "cell_type": "code",
   "execution_count": null,
   "id": "8bd91d38-4283-4581-85dd-c8116e2a1c9e",
   "metadata": {},
   "outputs": [],
   "source": []
  },
  {
   "cell_type": "code",
   "execution_count": null,
   "id": "06f202b5-9b03-4dba-9efb-eece7686efe4",
   "metadata": {},
   "outputs": [],
   "source": []
  }
 ],
 "metadata": {
  "kernelspec": {
   "display_name": "Python 3 (ipykernel)",
   "language": "python",
   "name": "python3"
  },
  "language_info": {
   "codemirror_mode": {
    "name": "ipython",
    "version": 3
   },
   "file_extension": ".py",
   "mimetype": "text/x-python",
   "name": "python",
   "nbconvert_exporter": "python",
   "pygments_lexer": "ipython3",
   "version": "3.13.0"
  }
 },
 "nbformat": 4,
 "nbformat_minor": 5
}
